{
 "cells": [
  {
   "cell_type": "markdown",
   "metadata": {},
   "source": [
    "# Author: ddukic"
   ]
  },
  {
   "cell_type": "code",
   "execution_count": 11,
   "metadata": {},
   "outputs": [],
   "source": [
    "import sys\n",
    "import evaluate\n",
    "\n",
    "seqeval = evaluate.load(\"seqeval\")\n",
    "\n",
    "sys.path.append(\"../baselines/\")\n",
    "\n",
    "from dataset import (\n",
    "    ACE2005TriggerRelationDataset,\n",
    "    EDNYTTriggerRelationDataset,\n",
    "    EVEXTRATriggerRelationDataset,\n",
    ")\n",
    "\n",
    "from transformers import AutoTokenizer\n",
    "\n",
    "from util import build_vocab\n",
    "\n",
    "all_labels_trigger, id2trigger, trigger2id = build_vocab([\"Trigger\"])\n",
    "all_labels_relation, id2relation, relation2id = build_vocab([\"Relation\"])\n",
    "\n",
    "\n",
    "tokenizer = AutoTokenizer.from_pretrained(\n",
    "    \"roberta-base\", do_lower_case=False, add_prefix_space=True\n",
    ")\n",
    "\n",
    "\n",
    "def calculate_alignment(\n",
    "    source_dataset, dataset_train_path, dataset_train_mini_extractions_path, tokenizer\n",
    "):\n",
    "    from torch.utils import data\n",
    "    import torch\n",
    "\n",
    "    dataset_test = source_dataset(\n",
    "        fpath_trigger=dataset_train_path,\n",
    "        fpath_relation=dataset_train_mini_extractions_path,\n",
    "        tokenizer=tokenizer,\n",
    "        trigger2id=trigger2id,\n",
    "        relation2id=relation2id,\n",
    "        implicit=True,\n",
    "    )\n",
    "\n",
    "    triggers = dataset_test.triggers\n",
    "    relations = [\n",
    "        [y.replace(\"Relation\", \"Trigger\") for y in x] for x in dataset_test.relations\n",
    "    ]\n",
    "\n",
    "    to_del = []\n",
    "\n",
    "    for i, (x, y) in enumerate(zip(triggers, relations)):\n",
    "        if len(x) != len(y):\n",
    "            to_del.append(i)\n",
    "\n",
    "    for idx in to_del:\n",
    "        del triggers[idx]\n",
    "        del relations[idx]\n",
    "\n",
    "    metrics = seqeval.compute(\n",
    "        predictions=triggers,\n",
    "        references=relations,\n",
    "        scheme=\"IOB2\",\n",
    "        mode=\"strict\",\n",
    "    )\n",
    "\n",
    "    print(metrics)"
   ]
  },
  {
   "cell_type": "code",
   "execution_count": 12,
   "metadata": {},
   "outputs": [
    {
     "name": "stdout",
     "output_type": "stream",
     "text": [
      "{'Trigger': {'precision': 0.035545023696682464, 'recall': 0.03205128205128205, 'f1': 0.033707865168539325, 'number': 468}, 'overall_precision': 0.035545023696682464, 'overall_recall': 0.03205128205128205, 'overall_f1': 0.033707865168539325, 'overall_accuracy': 0.928023758099352}\n"
     ]
    }
   ],
   "source": [
    "calculate_alignment(\n",
    "    ACE2005TriggerRelationDataset,\n",
    "    \"../data/raw/ace/test.json\",\n",
    "    \"../data/processed/mini/ace_test_triplets_filtered_merged.json\",\n",
    "    tokenizer,\n",
    ")"
   ]
  },
  {
   "cell_type": "code",
   "execution_count": 13,
   "metadata": {},
   "outputs": [
    {
     "name": "stdout",
     "output_type": "stream",
     "text": [
      "{'Trigger': {'precision': 0.021791767554479417, 'recall': 0.06382978723404255, 'f1': 0.03249097472924188, 'number': 141}, 'overall_precision': 0.021791767554479417, 'overall_recall': 0.06382978723404255, 'overall_f1': 0.03249097472924188, 'overall_accuracy': 0.9069833191970597}\n"
     ]
    }
   ],
   "source": [
    "calculate_alignment(\n",
    "    EDNYTTriggerRelationDataset,\n",
    "    \"../data/processed/ednyt/test.json\",\n",
    "    \"../data/processed/mini/ednyt_test_triplets_filtered_merged.json\",\n",
    "    tokenizer,\n",
    ")"
   ]
  },
  {
   "cell_type": "code",
   "execution_count": 14,
   "metadata": {},
   "outputs": [
    {
     "name": "stdout",
     "output_type": "stream",
     "text": [
      "{'Trigger': {'precision': 0.06319627304030788, 'recall': 0.1712403951701427, 'f1': 0.0923213493120284, 'number': 1822}, 'overall_precision': 0.06319627304030788, 'overall_recall': 0.1712403951701427, 'overall_f1': 0.0923213493120284, 'overall_accuracy': 0.8840432195427498}\n"
     ]
    }
   ],
   "source": [
    "calculate_alignment(\n",
    "    EVEXTRATriggerRelationDataset,\n",
    "    \"../data/processed/evextra/test.json\",\n",
    "    \"../data/processed/mini/evextra_test_triplets_filtered_merged.json\",\n",
    "    tokenizer,\n",
    ")"
   ]
  }
 ],
 "metadata": {
  "kernelspec": {
   "display_name": "phd",
   "language": "python",
   "name": "python3"
  },
  "language_info": {
   "codemirror_mode": {
    "name": "ipython",
    "version": 3
   },
   "file_extension": ".py",
   "mimetype": "text/x-python",
   "name": "python",
   "nbconvert_exporter": "python",
   "pygments_lexer": "ipython3",
   "version": "3.9.7"
  },
  "orig_nbformat": 4
 },
 "nbformat": 4,
 "nbformat_minor": 2
}
