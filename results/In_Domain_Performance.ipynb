{
 "cells": [
  {
   "cell_type": "markdown",
   "metadata": {},
   "source": [
    "# Author: ddukic"
   ]
  },
  {
   "cell_type": "code",
   "execution_count": 6,
   "metadata": {},
   "outputs": [],
   "source": [
    "from statistics import mean\n",
    "\n",
    "# dicts of shape seed: f1_score\n",
    "# ace\n",
    "f1_in_domain_ace = {\n",
    "    42: 0.687299893276414,\n",
    "    43: 0.7415036045314108,\n",
    "    44: 0.6900958466453675,\n",
    "}\n",
    "# maven\n",
    "f1_in_domain_maven = {\n",
    "    42: 0.7860409268579313,\n",
    "    43: 0.7854307010578623,\n",
    "    44: 0.7851533522625535,\n",
    "}\n",
    "# ednyt\n",
    "f1_in_domain_ednyt = {\n",
    "    42: 0.6807228915662651,\n",
    "    43: 0.7077922077922079,\n",
    "    44: 0.7175572519083969,\n",
    "}\n",
    "# evextra\n",
    "f1_in_domain_evextra = {\n",
    "    42: 0.8938759226012368,\n",
    "    43: 0.8947315604616156,\n",
    "    44: 0.8901238178804718,\n",
    "}\n",
    "\n",
    "\n",
    "def do_formatting_right(scores):\n",
    "    return format(\n",
    "        round(\n",
    "            mean(scores.values()),\n",
    "            3,\n",
    "        ),\n",
    "        \".3f\",\n",
    "    )"
   ]
  },
  {
   "cell_type": "code",
   "execution_count": 7,
   "metadata": {},
   "outputs": [
    {
     "name": "stdout",
     "output_type": "stream",
     "text": [
      "ACE2005: 0.706\n",
      "MAVEN: 0.786\n",
      "EDNYT: 0.702\n",
      "EVEXTRA: 0.893\n"
     ]
    }
   ],
   "source": [
    "print(\"ACE2005:\", do_formatting_right(f1_in_domain_ace))\n",
    "print(\"MAVEN:\", do_formatting_right(f1_in_domain_maven))\n",
    "print(\"EDNYT:\", do_formatting_right(f1_in_domain_ednyt))\n",
    "print(\"EVEXTRA:\", do_formatting_right(f1_in_domain_evextra))"
   ]
  }
 ],
 "metadata": {
  "kernelspec": {
   "display_name": "phd",
   "language": "python",
   "name": "python3"
  },
  "language_info": {
   "codemirror_mode": {
    "name": "ipython",
    "version": 3
   },
   "file_extension": ".py",
   "mimetype": "text/x-python",
   "name": "python",
   "nbconvert_exporter": "python",
   "pygments_lexer": "ipython3",
   "version": "3.9.7"
  },
  "orig_nbformat": 4
 },
 "nbformat": 4,
 "nbformat_minor": 2
}
