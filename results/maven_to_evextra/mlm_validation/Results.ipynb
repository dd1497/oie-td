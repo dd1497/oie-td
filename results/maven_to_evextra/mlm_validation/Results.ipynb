{
 "cells": [
  {
   "cell_type": "markdown",
   "metadata": {},
   "source": [
    "# Author: ddukic"
   ]
  },
  {
   "cell_type": "code",
   "execution_count": 1,
   "metadata": {},
   "outputs": [],
   "source": [
    "import wandb\n",
    "import sys\n",
    "import json\n",
    "from statistics import mean\n",
    "sys.path.append(\"../../\")\n",
    "from result_utils import * \n",
    "%matplotlib inline\n",
    "\n",
    "api = wandb.Api()\n",
    "\n",
    "def fetch_run_summary(run_url):\n",
    "    run_key = run_url.split(\"/\")[-1]\n",
    "    return api.run(\"ddukic/oee-paper/\" + run_key).summary"
   ]
  },
  {
   "cell_type": "code",
   "execution_count": 2,
   "metadata": {},
   "outputs": [],
   "source": [
    "results_seed_42 = json.load(open(\"seed_42.json\", \"r\"))\n",
    "results_seed_43 = json.load(open(\"seed_43.json\", \"r\"))\n",
    "results_seed_44 = json.load(open(\"seed_44.json\", \"r\"))"
   ]
  },
  {
   "cell_type": "code",
   "execution_count": 3,
   "metadata": {},
   "outputs": [
    {
     "name": "stdout",
     "output_type": "stream",
     "text": [
      "all unique: True\n"
     ]
    }
   ],
   "source": [
    "temp = [[id for _, id in v.items()] for _, v in results_seed_42.items()]\n",
    "wandb_keys = []\n",
    "\n",
    "for x in temp:\n",
    "    for k in x:\n",
    "        wandb_keys.append(k)\n",
    "\n",
    "print(\"all unique:\", len(wandb_keys) == len(set(wandb_keys)))"
   ]
  },
  {
   "cell_type": "code",
   "execution_count": 9,
   "metadata": {},
   "outputs": [
    {
     "data": {
      "text/plain": [
       "{'0_shot_pretrained_on_source': {'vanilla': True,\n",
       "  'implicit_multitask': True,\n",
       "  'two_head_multitask': True}}"
      ]
     },
     "execution_count": 9,
     "metadata": {},
     "output_type": "execute_result"
    }
   ],
   "source": [
    "results_check_all_equal = {\n",
    "    k: {\n",
    "        setting: extract_name(run_42).replace(\"SEED=42\", \"\")\n",
    "        == extract_name(run_43).replace(\"SEED=43\", \"\")\n",
    "        == extract_name(run_44).replace(\"SEED=44\", \"\")\n",
    "        for (setting, run_42), (_, run_43), (_, run_44) in zip(\n",
    "            v_42.items(), v_43.items(), v_44.items()\n",
    "        )\n",
    "    }\n",
    "    for (k, v_42), (_, v_43), (_, v_44) in zip(\n",
    "        results_seed_42.items(), results_seed_43.items(), results_seed_44.items()\n",
    "    )\n",
    "}\n",
    "\n",
    "results_check_all_equal"
   ]
  },
  {
   "cell_type": "code",
   "execution_count": 5,
   "metadata": {},
   "outputs": [],
   "source": [
    "results_target_f1_table_data = {\n",
    "    k: {\n",
    "        setting: format(\n",
    "            round(\n",
    "                mean(\n",
    "                    [\n",
    "                        extract_target_performance(fetch_run_summary(run_42), k, \"f1\"),\n",
    "                        extract_target_performance(fetch_run_summary(run_43), k, \"f1\"),\n",
    "                        extract_target_performance(fetch_run_summary(run_44), k, \"f1\"),\n",
    "                    ]\n",
    "                ),\n",
    "                3,\n",
    "            ),\n",
    "            \".3f\",\n",
    "        )\n",
    "        for (setting, run_42), (_, run_43), (_, run_44) in zip(\n",
    "            v_42.items(), v_43.items(), v_44.items()\n",
    "        )\n",
    "    }\n",
    "    for (k, v_42), (_, v_43), (_, v_44) in zip(\n",
    "        results_seed_42.items(), results_seed_43.items(), results_seed_44.items()\n",
    "    )\n",
    "}"
   ]
  },
  {
   "cell_type": "code",
   "execution_count": 6,
   "metadata": {},
   "outputs": [
    {
     "data": {
      "text/plain": [
       "{'0_shot_pretrained_on_source': {'vanilla': '0.665',\n",
       "  'implicit_multitask': '0.664',\n",
       "  'two_head_multitask': '0.664'}}"
      ]
     },
     "execution_count": 6,
     "metadata": {},
     "output_type": "execute_result"
    }
   ],
   "source": [
    "results_target_f1_table_data"
   ]
  }
 ],
 "metadata": {
  "kernelspec": {
   "display_name": "phd",
   "language": "python",
   "name": "python3"
  },
  "language_info": {
   "codemirror_mode": {
    "name": "ipython",
    "version": 3
   },
   "file_extension": ".py",
   "mimetype": "text/x-python",
   "name": "python",
   "nbconvert_exporter": "python",
   "pygments_lexer": "ipython3",
   "version": "3.9.7"
  },
  "orig_nbformat": 4,
  "vscode": {
   "interpreter": {
    "hash": "e7f76fb381ebc64623dc8a8c6abeb22ff81eeddde5269602dfdd0d27a66e46ca"
   }
  }
 },
 "nbformat": 4,
 "nbformat_minor": 2
}
