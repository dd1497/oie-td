{
 "cells": [
  {
   "cell_type": "markdown",
   "metadata": {},
   "source": [
    "# Author: ddukic"
   ]
  },
  {
   "cell_type": "code",
   "execution_count": 5,
   "metadata": {},
   "outputs": [],
   "source": [
    "import sys\n",
    "\n",
    "sys.path.append(\"../baselines/\")\n",
    "\n",
    "from dataset import (\n",
    "    ACE2005TriggerRelationDataset,\n",
    "    EDNYTTriggerRelationDataset,\n",
    "    EVEXTRATriggerRelationDataset,\n",
    "    MavenTriggerRelationDataset,\n",
    ")\n",
    "\n",
    "from transformers import AutoTokenizer\n",
    "\n",
    "from util import build_vocab\n",
    "\n",
    "all_labels_trigger, id2trigger, trigger2id = build_vocab([\"Trigger\"])\n",
    "all_labels_relation, id2relation, relation2id = build_vocab([\"Relation\"])\n",
    "\n",
    "\n",
    "tokenizer = AutoTokenizer.from_pretrained(\n",
    "    \"roberta-base\", do_lower_case=False, add_prefix_space=True\n",
    ")\n",
    "\n",
    "\n",
    "def calculate_freqs(\n",
    "    source_dataset, dataset_train_path, dataset_train_mini_extractions_path, tokenizer\n",
    "):\n",
    "    from torch.utils import data\n",
    "    import torch\n",
    "\n",
    "    dataset_train = source_dataset(\n",
    "        fpath_trigger=dataset_train_path,\n",
    "        fpath_relation=dataset_train_mini_extractions_path,\n",
    "        tokenizer=tokenizer,\n",
    "        trigger2id=trigger2id,\n",
    "        relation2id=relation2id,\n",
    "        implicit=True,\n",
    "    )\n",
    "\n",
    "    for i in range(len(dataset_train.triggers)):\n",
    "        for j in range(len(dataset_train.triggers[i])):\n",
    "            if \"Trigger\" in dataset_train.triggers[i][j]:\n",
    "                dataset_train.triggers[i][j] = \"T\"\n",
    "            if \"Relation\" in dataset_train.relations[i][j]:\n",
    "                dataset_train.relations[i][j] = \"T\"\n",
    "\n",
    "    # trigger_relation\n",
    "    yes_yes = 0\n",
    "    yes_no = 0\n",
    "    no_yes = 0\n",
    "    no_no = 0\n",
    "\n",
    "    for trig, rel in zip(dataset_train.triggers, dataset_train.relations):\n",
    "        for i in range(len(trig)):\n",
    "            if trig[i] == \"T\" and rel[i] == \"T\":\n",
    "                yes_yes += 1\n",
    "\n",
    "    for trig, rel in zip(dataset_train.triggers, dataset_train.relations):\n",
    "        for i in range(len(trig)):\n",
    "            if trig[i] != \"T\" and rel[i] != \"T\":\n",
    "                no_no += 1\n",
    "\n",
    "    for trig, rel in zip(dataset_train.triggers, dataset_train.relations):\n",
    "        for i in range(len(trig)):\n",
    "            if trig[i] == \"T\" and rel[i] != \"T\":\n",
    "                yes_no += 1\n",
    "\n",
    "    for trig, rel in zip(dataset_train.triggers, dataset_train.relations):\n",
    "        for i in range(len(trig)):\n",
    "            if trig[i] != \"T\" and rel[i] == \"T\":\n",
    "                no_yes += 1\n",
    "\n",
    "    return yes_yes, yes_no, no_yes, no_no"
   ]
  },
  {
   "cell_type": "code",
   "execution_count": 25,
   "metadata": {},
   "outputs": [
    {
     "name": "stdout",
     "output_type": "stream",
     "text": [
      "(746, 3799, 15564, 229186)\n"
     ]
    }
   ],
   "source": [
    "print(\n",
    "    calculate_freqs(\n",
    "        ACE2005TriggerRelationDataset,\n",
    "        \"../data/raw/ace/train.json\",\n",
    "        \"../data/processed/mini/ace_train_triplets_filtered_merged.json\",\n",
    "        tokenizer,\n",
    "    )\n",
    ")"
   ]
  },
  {
   "cell_type": "code",
   "execution_count": 26,
   "metadata": {},
   "outputs": [
    {
     "name": "stdout",
     "output_type": "stream",
     "text": [
      "(479, 4219, 2471, 60942)\n"
     ]
    }
   ],
   "source": [
    "print(\n",
    "    calculate_freqs(\n",
    "        EDNYTTriggerRelationDataset,\n",
    "        \"../data/processed/ednyt/train.json\",\n",
    "        \"../data/processed/mini/ednyt_train_triplets_filtered_merged.json\",\n",
    "        tokenizer,\n",
    "    )\n",
    ")"
   ]
  },
  {
   "cell_type": "code",
   "execution_count": 27,
   "metadata": {},
   "outputs": [
    {
     "name": "stdout",
     "output_type": "stream",
     "text": [
      "(3038, 14350, 10564, 192710)\n"
     ]
    }
   ],
   "source": [
    "print(\n",
    "    calculate_freqs(\n",
    "        EVEXTRATriggerRelationDataset,\n",
    "        \"../data/processed/evextra/train.json\",\n",
    "        \"../data/processed/mini/evextra_train_triplets_filtered_merged.json\",\n",
    "        tokenizer,\n",
    "    )\n",
    ")"
   ]
  },
  {
   "cell_type": "code",
   "execution_count": 6,
   "metadata": {},
   "outputs": [
    {
     "name": "stdout",
     "output_type": "stream",
     "text": [
      "(15051, 65487, 30896, 720752)\n"
     ]
    }
   ],
   "source": [
    "print(\n",
    "    calculate_freqs(\n",
    "        MavenTriggerRelationDataset,\n",
    "        \"../data/raw/maven/train.jsonl\",\n",
    "        \"../data/processed/mini/maven_train_triplets_filtered_merged.json\",\n",
    "        tokenizer,\n",
    "    )\n",
    ")"
   ]
  }
 ],
 "metadata": {
  "kernelspec": {
   "display_name": "phd",
   "language": "python",
   "name": "python3"
  },
  "language_info": {
   "codemirror_mode": {
    "name": "ipython",
    "version": 3
   },
   "file_extension": ".py",
   "mimetype": "text/x-python",
   "name": "python",
   "nbconvert_exporter": "python",
   "pygments_lexer": "ipython3",
   "version": "3.9.7"
  },
  "orig_nbformat": 4
 },
 "nbformat": 4,
 "nbformat_minor": 2
}
