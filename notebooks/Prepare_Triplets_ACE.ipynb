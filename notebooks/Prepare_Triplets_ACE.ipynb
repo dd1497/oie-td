{
 "cells": [
  {
   "attachments": {},
   "cell_type": "markdown",
   "id": "3627444f",
   "metadata": {
    "pycharm": {
     "name": "#%% md\n"
    }
   },
   "source": [
    "# Author: ddukic"
   ]
  },
  {
   "cell_type": "markdown",
   "id": "757d8136",
   "metadata": {
    "pycharm": {
     "name": "#%% md\n"
    }
   },
   "source": [
    "## Import libraries"
   ]
  },
  {
   "cell_type": "code",
   "execution_count": 1,
   "id": "5e12cb81",
   "metadata": {
    "execution": {
     "iopub.execute_input": "2022-04-21T14:42:17.578233Z",
     "iopub.status.busy": "2022-04-21T14:42:17.577617Z",
     "iopub.status.idle": "2022-04-21T14:42:17.594035Z",
     "shell.execute_reply": "2022-04-21T14:42:17.593604Z"
    },
    "pycharm": {
     "name": "#%%\n"
    }
   },
   "outputs": [],
   "source": [
    "import os\n",
    "from tqdm import tqdm\n",
    "import json\n",
    "from tqdm import tqdm\n",
    "from collections import Counter\n",
    "from collections import defaultdict\n",
    "\n",
    "file = \"dev\""
   ]
  },
  {
   "cell_type": "markdown",
   "id": "2086e407",
   "metadata": {},
   "source": [
    "## Help functions"
   ]
  },
  {
   "cell_type": "code",
   "execution_count": 2,
   "id": "65a3738c",
   "metadata": {
    "execution": {
     "iopub.execute_input": "2022-04-21T14:42:17.601383Z",
     "iopub.status.busy": "2022-04-21T14:42:17.601195Z",
     "iopub.status.idle": "2022-04-21T14:42:17.607183Z",
     "shell.execute_reply": "2022-04-21T14:42:17.606617Z"
    },
    "pycharm": {
     "name": "#%%\n"
    }
   },
   "outputs": [],
   "source": [
    "def convert_bio(tags, tag=\"Subject\"):\n",
    "    return [\n",
    "        (\"B-\" + tag, x[1]) if i == 0 else (\"I-\" + tag, x[1]) for i, x in enumerate(tags)\n",
    "    ]\n",
    "\n",
    "\n",
    "def create_bio_tags(triplet_tokens, subject_, relation_, object_):\n",
    "    bio_tags = [\"O\"] * len(triplet_tokens)\n",
    "\n",
    "    subject_bio = convert_bio(subject_)\n",
    "    relation_bio = convert_bio(relation_, \"Relation\")\n",
    "    object_bio = convert_bio(object_, \"Object\")\n",
    "\n",
    "    # for some reason MINI indexes go from 1\n",
    "    for s in subject_bio:\n",
    "        bio_tags[s[1] - 1] = s[0]\n",
    "\n",
    "    for r in relation_bio:\n",
    "        bio_tags[r[1] - 1] = r[0]\n",
    "\n",
    "    for o in object_bio:\n",
    "        bio_tags[o[1] - 1] = o[0]\n",
    "\n",
    "    return bio_tags\n",
    "\n",
    "\n",
    "def is_implicit(t):\n",
    "    return (\n",
    "        any(\"--2\" in x for x in t[\"subject\"])\n",
    "        or any(\"--2\" in x for x in t[\"relation\"])\n",
    "        or any(\"--2\" in x for x in t[\"object\"])\n",
    "    )\n",
    "\n",
    "\n",
    "def special_split(x):\n",
    "    if \"--2\" in x:\n",
    "        return [x.split(\"-\", 1)[0], int(x.split(\"-\", 1)[1])]\n",
    "    else:\n",
    "        return [x.rsplit(\"-\", 1)[0], int(x.rsplit(\"-\", 1)[1])]"
   ]
  },
  {
   "cell_type": "code",
   "execution_count": 3,
   "id": "19549a5c",
   "metadata": {},
   "outputs": [],
   "source": [
    "def read_triplets(save=True):\n",
    "    triplets = {}\n",
    "    triplet_ids = set()\n",
    "    with open(\"../data/processed/mini/ace_\" + file + \"_triplets.json\", \"r\") as f:\n",
    "        data = json.load(f)\n",
    "        for k, v in tqdm(data.items()):\n",
    "            tokens = data[k][\"tokens\"][\"tokens\"]\n",
    "            sentence_triplets = [\n",
    "                {sro: [special_split(x) for x in idx] for sro, idx in values.items()}\n",
    "                for entry, values in data[k].items()\n",
    "                if \"triplet\" in entry and not is_implicit(values)\n",
    "            ]\n",
    "\n",
    "            if len(sentence_triplets) > 0:\n",
    "                triplets[k] = {\n",
    "                    \"tokens\": tokens,\n",
    "                    \"triplets\": sentence_triplets,\n",
    "                }\n",
    "\n",
    "                triplets[k][\"bio_tags\"] = [\n",
    "                    create_bio_tags(tokens, t[\"subject\"], t[\"relation\"], t[\"object\"])\n",
    "                    for t in triplets[k][\"triplets\"]\n",
    "                ]\n",
    "    if save:\n",
    "        with open(\n",
    "            \"../data/processed/mini/ace_\" + file + \"_triplets_bio_all.json\", \"w\"\n",
    "        ) as f:\n",
    "            json.dump(triplets, f)\n",
    "    return triplets"
   ]
  },
  {
   "cell_type": "code",
   "execution_count": 4,
   "id": "32fdf97c",
   "metadata": {},
   "outputs": [
    {
     "name": "stderr",
     "output_type": "stream",
     "text": [
      "100%|██████████| 873/873 [00:00<00:00, 11877.99it/s]\n"
     ]
    }
   ],
   "source": [
    "triplets = read_triplets(save=False)"
   ]
  },
  {
   "cell_type": "code",
   "execution_count": 5,
   "id": "2a04e200",
   "metadata": {
    "execution": {
     "iopub.execute_input": "2022-04-21T14:42:25.240074Z",
     "iopub.status.busy": "2022-04-21T14:42:25.239652Z",
     "iopub.status.idle": "2022-04-21T14:42:25.251205Z",
     "shell.execute_reply": "2022-04-21T14:42:25.250625Z"
    },
    "pycharm": {
     "name": "#%%\n"
    }
   },
   "outputs": [
    {
     "name": "stdout",
     "output_type": "stream",
     "text": [
      "734\n"
     ]
    }
   ],
   "source": [
    "# this is the number of sentences with at least one triplet\n",
    "print(len(triplets))"
   ]
  },
  {
   "cell_type": "markdown",
   "id": "3c3af4ba",
   "metadata": {},
   "source": [
    "## Deal with multiple labelings of the same sentence (keep multiply labeled sentences)"
   ]
  },
  {
   "cell_type": "code",
   "execution_count": 6,
   "id": "ca291b9c",
   "metadata": {},
   "outputs": [],
   "source": [
    "# skip for now"
   ]
  },
  {
   "cell_type": "markdown",
   "id": "279bab10",
   "metadata": {
    "pycharm": {
     "name": "#%% md\n"
    }
   },
   "source": [
    "## Filter non-consecutive BIO tags, non_triplets, more than five tokens, empty fields"
   ]
  },
  {
   "cell_type": "code",
   "execution_count": 7,
   "id": "1c6b9e64",
   "metadata": {
    "execution": {
     "iopub.execute_input": "2022-04-21T14:42:25.253773Z",
     "iopub.status.busy": "2022-04-21T14:42:25.253541Z",
     "iopub.status.idle": "2022-04-21T14:42:25.258025Z",
     "shell.execute_reply": "2022-04-21T14:42:25.257192Z"
    },
    "pycharm": {
     "name": "#%%\n"
    }
   },
   "outputs": [],
   "source": [
    "def is_bio_sequent(bio_tags):\n",
    "    i_positions = []\n",
    "    for i, token in enumerate(bio_tags):\n",
    "        if token.startswith(\"I-\"):\n",
    "            i_positions.append(i)\n",
    "    for position in i_positions:\n",
    "        current_tag = bio_tags[position]\n",
    "        previous_tag = bio_tags[position - 1]\n",
    "        if not previous_tag == current_tag and not (\n",
    "            previous_tag == \"B-\" + current_tag.split(\"-\")[1]\n",
    "        ):\n",
    "            return False\n",
    "    return True\n",
    "\n",
    "\n",
    "def contains_triplet(bio_tags):\n",
    "    return (\n",
    "        \"B-Subject\" in bio_tags and \"B-Relation\" in bio_tags and \"B-Object\" in bio_tags\n",
    "    )\n",
    "\n",
    "\n",
    "def longer_than_five(x):\n",
    "    return sum([\"Relation\" in elem for elem in x]) > 5\n",
    "\n",
    "\n",
    "def check_empty(s, r, o):\n",
    "    if len(s) == 0 or len(r) == 0 or len(o) == 0:\n",
    "        return True"
   ]
  },
  {
   "cell_type": "code",
   "execution_count": 8,
   "id": "5b461a55",
   "metadata": {
    "execution": {
     "iopub.execute_input": "2022-04-21T14:42:25.260937Z",
     "iopub.status.busy": "2022-04-21T14:42:25.260474Z",
     "iopub.status.idle": "2022-04-21T14:42:25.279045Z",
     "shell.execute_reply": "2022-04-21T14:42:25.278450Z"
    },
    "pycharm": {
     "name": "#%%\n"
    }
   },
   "outputs": [
    {
     "name": "stderr",
     "output_type": "stream",
     "text": [
      "100%|██████████| 734/734 [00:00<00:00, 45829.15it/s]\n"
     ]
    }
   ],
   "source": [
    "triplets_filtered = defaultdict(lambda: defaultdict(str))\n",
    "\n",
    "for k, v in tqdm(triplets.items()):\n",
    "    triplet_filtered = []\n",
    "    tag_filtered = []\n",
    "    for ts, tags in zip(v[\"triplets\"], v[\"bio_tags\"]):\n",
    "        if (\n",
    "            is_bio_sequent(tags)\n",
    "            and contains_triplet(tags)\n",
    "            and not longer_than_five(tags)\n",
    "            and not check_empty(*[ts[x] for x in [\"subject\", \"relation\", \"object\"]])\n",
    "        ):\n",
    "            triplet_filtered.append(ts)\n",
    "            tag_filtered.append(tags)\n",
    "    if len(tag_filtered) > 0:\n",
    "        triplets_filtered[k][\"tokens\"] = v[\"tokens\"]\n",
    "        triplets_filtered[k][\"triplets\"] = triplet_filtered\n",
    "        triplets_filtered[k][\"bio_tags\"] = tag_filtered"
   ]
  },
  {
   "cell_type": "code",
   "execution_count": 9,
   "id": "3c268a45",
   "metadata": {
    "execution": {
     "iopub.execute_input": "2022-04-21T14:42:25.281482Z",
     "iopub.status.busy": "2022-04-21T14:42:25.281295Z",
     "iopub.status.idle": "2022-04-21T14:42:25.284949Z",
     "shell.execute_reply": "2022-04-21T14:42:25.284351Z"
    },
    "pycharm": {
     "name": "#%%\n"
    }
   },
   "outputs": [
    {
     "name": "stdout",
     "output_type": "stream",
     "text": [
      "485\n"
     ]
    }
   ],
   "source": [
    "print(len(triplets_filtered))"
   ]
  },
  {
   "cell_type": "markdown",
   "id": "c5b28b1a",
   "metadata": {},
   "source": [
    "## Check how many instances have the data in some other order than SRO"
   ]
  },
  {
   "cell_type": "code",
   "execution_count": 10,
   "id": "10ebd286",
   "metadata": {},
   "outputs": [],
   "source": [
    "def sro_order(s, r, o):\n",
    "    for s_e in s:\n",
    "        for r_e in r:\n",
    "            if not (s_e[1] < r_e[1]):\n",
    "                return False\n",
    "\n",
    "    for r_e in r:\n",
    "        for o_e in o:\n",
    "            if not (r_e[1] < o_e[1]):\n",
    "                return False\n",
    "\n",
    "    return True\n",
    "\n",
    "\n",
    "def check_data(data):\n",
    "    discard = defaultdict(list)\n",
    "    for k, v in data.items():\n",
    "        for i, triplet in enumerate(v[\"triplets\"]):\n",
    "            if not sro_order(\n",
    "                triplet[\"subject\"], triplet[\"relation\"], triplet[\"object\"]\n",
    "            ):\n",
    "                discard[k].append(i)\n",
    "    return discard\n",
    "\n",
    "\n",
    "triplets_to_discard = check_data(triplets_filtered)"
   ]
  },
  {
   "cell_type": "code",
   "execution_count": 11,
   "id": "2dd7f54c",
   "metadata": {},
   "outputs": [
    {
     "name": "stderr",
     "output_type": "stream",
     "text": [
      "100%|██████████| 485/485 [00:00<00:00, 300345.11it/s]\n"
     ]
    }
   ],
   "source": [
    "triplets_final = defaultdict(lambda: defaultdict(str))\n",
    "\n",
    "for k, v in tqdm(triplets_filtered.items()):\n",
    "    if k not in triplets_to_discard.keys():\n",
    "        triplets_final[k][\"tokens\"] = triplets_filtered[k][\"tokens\"]\n",
    "        triplets_final[k][\"triplets\"] = triplets_filtered[k][\"triplets\"]\n",
    "        triplets_final[k][\"bio_tags\"] = triplets_filtered[k][\"bio_tags\"]\n",
    "    else:\n",
    "        for i, (ts, tags) in enumerate(zip(v[\"triplets\"], v[\"bio_tags\"])):\n",
    "            ts_final = []\n",
    "            tags_final = []\n",
    "            if i not in triplets_to_discard[k]:\n",
    "                ts_final.append(ts)\n",
    "                tags_final.append(tags)\n",
    "        if len(tags_final) > 0:\n",
    "            triplets_final[k][\"tokens\"] = triplets_filtered[k][\"tokens\"]\n",
    "            triplets_final[k][\"triplets\"] = ts_final\n",
    "            triplets_final[k][\"bio_tags\"] = tags_final"
   ]
  },
  {
   "cell_type": "code",
   "execution_count": 12,
   "id": "1de41e4c",
   "metadata": {},
   "outputs": [
    {
     "name": "stdout",
     "output_type": "stream",
     "text": [
      "485\n"
     ]
    }
   ],
   "source": [
    "print(len(triplets_final))"
   ]
  },
  {
   "cell_type": "markdown",
   "id": "213f4405",
   "metadata": {},
   "source": [
    "## Drop duplicates"
   ]
  },
  {
   "cell_type": "code",
   "execution_count": 13,
   "id": "d5c794e9",
   "metadata": {},
   "outputs": [],
   "source": [
    "# TODO"
   ]
  },
  {
   "cell_type": "markdown",
   "id": "cecddf77",
   "metadata": {},
   "source": [
    "## Viz some triplets"
   ]
  },
  {
   "cell_type": "code",
   "execution_count": 14,
   "id": "653e6056",
   "metadata": {},
   "outputs": [],
   "source": [
    "import spacy\n",
    "from spacy import displacy\n",
    "from spacy.tokens import Doc\n",
    "\n",
    "nlp = spacy.load(\"en_core_web_lg\")\n",
    "\n",
    "\n",
    "def viz_sentence(tokens, tags):\n",
    "    assert len(tokens) == len(tags)\n",
    "\n",
    "    doc = Doc(nlp.vocab, words=tokens, ents=tags)\n",
    "\n",
    "    displacy.render(\n",
    "        doc,\n",
    "        style=\"ent\",\n",
    "        options={\n",
    "            \"ents\": [\"Subject\", \"Relation\", \"Object\"],\n",
    "            \"colors\": {\n",
    "                \"Subject\": \"#ff6961\",\n",
    "                \"Relation\": \"#3CB371\",\n",
    "                \"Object\": \"#85C1E9\",\n",
    "            },\n",
    "        },\n",
    "    )"
   ]
  },
  {
   "cell_type": "code",
   "execution_count": null,
   "id": "cadff980",
   "metadata": {},
   "outputs": [],
   "source": [
    "for i, (k, v) in enumerate(triplets_final.items()):\n",
    "    for tr, ta in zip(v[\"triplets\"], v[\"bio_tags\"]):\n",
    "        if i < 100:\n",
    "            viz_sentence(v[\"tokens\"], ta)"
   ]
  },
  {
   "cell_type": "markdown",
   "id": "96ae3d53",
   "metadata": {},
   "source": [
    "## Total number of triplets"
   ]
  },
  {
   "cell_type": "code",
   "execution_count": 16,
   "id": "32e719d8",
   "metadata": {},
   "outputs": [
    {
     "data": {
      "text/plain": [
       "731"
      ]
     },
     "execution_count": 16,
     "metadata": {},
     "output_type": "execute_result"
    }
   ],
   "source": [
    "total = 0\n",
    "\n",
    "for v in triplets_final.values():\n",
    "    total += len(v[\"bio_tags\"])\n",
    "\n",
    "total"
   ]
  },
  {
   "cell_type": "markdown",
   "id": "6827a2dd",
   "metadata": {},
   "source": [
    "## Total number of relations without duplicates"
   ]
  },
  {
   "cell_type": "code",
   "execution_count": 17,
   "id": "5222d557",
   "metadata": {},
   "outputs": [
    {
     "data": {
      "text/plain": [
       "665"
      ]
     },
     "execution_count": 17,
     "metadata": {},
     "output_type": "execute_result"
    }
   ],
   "source": [
    "visited = []\n",
    "\n",
    "for v in triplets_final.values():\n",
    "    tokens = v[\"tokens\"]\n",
    "    for bio_tags in v[\"bio_tags\"]:\n",
    "        pairs = []\n",
    "        for token, tag in zip(tokens, bio_tags):\n",
    "            pairs.append((token, tag if tag in [\"B-Relation\", \"I-Relation\"] else \"O\"))\n",
    "        if pairs not in visited:\n",
    "            visited.append(pairs)\n",
    "\n",
    "len(visited)"
   ]
  },
  {
   "cell_type": "markdown",
   "id": "97396935",
   "metadata": {},
   "source": [
    "## Total number of triplets without duplicates"
   ]
  },
  {
   "cell_type": "code",
   "execution_count": 18,
   "id": "d8d53718",
   "metadata": {},
   "outputs": [
    {
     "data": {
      "text/plain": [
       "718"
      ]
     },
     "execution_count": 18,
     "metadata": {},
     "output_type": "execute_result"
    }
   ],
   "source": [
    "visited = []\n",
    "\n",
    "for v in triplets_final.values():\n",
    "    tokens = v[\"tokens\"]\n",
    "    for bio_tags in v[\"bio_tags\"]:\n",
    "        pairs = []\n",
    "        for token, tag in zip(tokens, bio_tags):\n",
    "            pairs.append((token, tag))\n",
    "        if pairs not in visited:\n",
    "            visited.append(pairs)\n",
    "\n",
    "len(visited)"
   ]
  },
  {
   "cell_type": "markdown",
   "id": "5871e2ff",
   "metadata": {
    "pycharm": {
     "name": "#%% md\n"
    }
   },
   "source": [
    "## Dump to file"
   ]
  },
  {
   "cell_type": "code",
   "execution_count": 19,
   "id": "89009cbf",
   "metadata": {
    "execution": {
     "iopub.execute_input": "2022-04-21T14:42:25.354559Z",
     "iopub.status.busy": "2022-04-21T14:42:25.354174Z",
     "iopub.status.idle": "2022-04-21T14:42:25.372406Z",
     "shell.execute_reply": "2022-04-21T14:42:25.371773Z"
    },
    "pycharm": {
     "name": "#%%\n"
    }
   },
   "outputs": [],
   "source": [
    "with open(\"../data/processed/mini/ace_\" + file + \"_triplets_filtered.json\", \"w\") as f:\n",
    "    json.dump(triplets_final, f)"
   ]
  }
 ],
 "metadata": {
  "kernelspec": {
   "display_name": "phd",
   "language": "python",
   "name": "python3"
  },
  "language_info": {
   "codemirror_mode": {
    "name": "ipython",
    "version": 3
   },
   "file_extension": ".py",
   "mimetype": "text/x-python",
   "name": "python",
   "nbconvert_exporter": "python",
   "pygments_lexer": "ipython3",
   "version": "3.9.7 (default, Sep 16 2021, 13:09:58) \n[GCC 7.5.0]"
  },
  "vscode": {
   "interpreter": {
    "hash": "e7f76fb381ebc64623dc8a8c6abeb22ff81eeddde5269602dfdd0d27a66e46ca"
   }
  }
 },
 "nbformat": 4,
 "nbformat_minor": 5
}
