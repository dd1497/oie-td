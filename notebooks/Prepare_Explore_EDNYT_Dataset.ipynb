{
 "cells": [
  {
   "attachments": {},
   "cell_type": "markdown",
   "metadata": {},
   "source": [
    "# Author: ddukic"
   ]
  },
  {
   "cell_type": "code",
   "execution_count": 1,
   "metadata": {},
   "outputs": [],
   "source": [
    "import xml.etree.ElementTree as ET\n",
    "from collections import defaultdict\n",
    "import spacy\n",
    "from spacy import displacy\n",
    "from spacy.tokens import Doc\n",
    "import re\n",
    "import os\n",
    "from tqdm import tqdm\n",
    "import pandas as pd\n",
    "\n",
    "nlp = spacy.load(\"en_core_web_lg\")\n",
    "\n",
    "\n",
    "def viz_text(tokens, tags):\n",
    "    assert len(tokens) == len(tags)\n",
    "\n",
    "    doc = Doc(nlp.vocab, words=tokens, ents=tags)\n",
    "\n",
    "    displacy.render(\n",
    "        doc,\n",
    "        style=\"ent\",\n",
    "        options={\n",
    "            \"tag\": [\"Trigger\"],\n",
    "            \"colors\": {\"Trigger\": \"#ff6961\"},\n",
    "        },\n",
    "    )"
   ]
  },
  {
   "cell_type": "code",
   "execution_count": 2,
   "metadata": {},
   "outputs": [],
   "source": [
    "def check_length_of_triggers(file):\n",
    "    try:\n",
    "        tree = ET.parse(file)\n",
    "        root = tree.getroot()\n",
    "        for x in root:\n",
    "            if x.tag == \"sentence\":\n",
    "                for event in x:\n",
    "                    if len(event.text.split(\" \")) > 1:\n",
    "                        print(event.text)\n",
    "        return False\n",
    "    except:\n",
    "        return True"
   ]
  },
  {
   "cell_type": "code",
   "execution_count": 3,
   "metadata": {},
   "outputs": [
    {
     "name": "stdout",
     "output_type": "stream",
     "text": [
      "Skip ratio:  42 / 1900\n",
      "Skip ratio:  5 / 100\n",
      "Skip ratio:  1 / 200\n"
     ]
    }
   ],
   "source": [
    "def check_set(dataset=\"train\"):\n",
    "    skip_ratio = 0\n",
    "\n",
    "    files = os.listdir(os.path.join(\"../data/raw/ednyt/\", dataset))\n",
    "\n",
    "    for fpath in files:\n",
    "        with open(os.path.join(\"../data/raw/ednyt\", dataset, fpath), \"r\") as file:\n",
    "            if check_length_of_triggers(file):\n",
    "                skip_ratio += 1\n",
    "    print(\"Skip ratio: \", skip_ratio, \"/\", len(files))\n",
    "\n",
    "check_set(\"train\")\n",
    "check_set(\"valid\")\n",
    "check_set(\"test\")"
   ]
  },
  {
   "cell_type": "code",
   "execution_count": 4,
   "metadata": {},
   "outputs": [],
   "source": [
    "def parse_xml(file):\n",
    "    try:\n",
    "        tree = ET.parse(file)\n",
    "        root = tree.getroot()\n",
    "        events = []\n",
    "        bio_tags = []\n",
    "        words = []\n",
    "        for x in root:\n",
    "            if x.tag == \"sentence\":\n",
    "                sentence = (\n",
    "                    re.findall(\n",
    "                        r\"<sentence>(.*?)<\\/sentence>\",\n",
    "                        ET.tostring(root).decode(\"utf-8\"),\n",
    "                        re.DOTALL,\n",
    "                    )[0]\n",
    "                    .replace(\"<event>\", \"\")\n",
    "                    .replace(\"</event>\", \"\")\n",
    "                    .replace(\"\\n\", \"\")\n",
    "                )\n",
    "                for event in x:\n",
    "                    events.append(event.text)\n",
    "                tokens = nlp(sentence)\n",
    "                counter = 0\n",
    "                for token in tokens:\n",
    "                    if token.text != '' and token.text != ' ':\n",
    "                        words.append(token.text)\n",
    "                        if counter < len(events) and token.text == events[counter]:\n",
    "                            # in this dataset there are only one-trigger words\n",
    "                            bio_tags.append(\"B-Trigger\")\n",
    "                            counter += 1\n",
    "                        else:\n",
    "                            bio_tags.append(\"O\")\n",
    "                assert len(events) == len([x for x in bio_tags if x == \"B-Trigger\"])\n",
    "        return sentence, words, bio_tags\n",
    "    except:\n",
    "        return None, None, None"
   ]
  },
  {
   "cell_type": "code",
   "execution_count": 5,
   "metadata": {},
   "outputs": [],
   "source": [
    "def tokenize_create_bio_tags(dataset=\"train\"):\n",
    "    skip_ratio = 0\n",
    "\n",
    "    records = []\n",
    "\n",
    "    files = os.listdir(os.path.join(\"../data/raw/ednyt/\", dataset))\n",
    "\n",
    "    for fpath in tqdm(files):\n",
    "        with open(os.path.join(\"../data/raw/ednyt\", dataset, fpath), \"r\") as file:\n",
    "            sentence, toks, tags = parse_xml(file)\n",
    "            if sentence is None:\n",
    "                skip_ratio += 1\n",
    "            else:\n",
    "                records.append({\n",
    "                    \"file\": fpath,\n",
    "                    \"tokens\": toks,\n",
    "                    \"bio_tags\": tags\n",
    "                })\n",
    "    print(\"Skip ratio: \", skip_ratio, \"/\", len(files))\n",
    "    return records"
   ]
  },
  {
   "cell_type": "code",
   "execution_count": 6,
   "metadata": {},
   "outputs": [
    {
     "name": "stderr",
     "output_type": "stream",
     "text": [
      "100%|██████████| 1900/1900 [00:17<00:00, 108.24it/s]\n"
     ]
    },
    {
     "name": "stdout",
     "output_type": "stream",
     "text": [
      "Skip ratio:  58 / 1900\n"
     ]
    },
    {
     "name": "stderr",
     "output_type": "stream",
     "text": [
      "100%|██████████| 100/100 [00:00<00:00, 120.79it/s]\n"
     ]
    },
    {
     "name": "stdout",
     "output_type": "stream",
     "text": [
      "Skip ratio:  5 / 100\n"
     ]
    },
    {
     "name": "stderr",
     "output_type": "stream",
     "text": [
      "100%|██████████| 200/200 [00:01<00:00, 124.90it/s]"
     ]
    },
    {
     "name": "stdout",
     "output_type": "stream",
     "text": [
      "Skip ratio:  2 / 200\n"
     ]
    },
    {
     "name": "stderr",
     "output_type": "stream",
     "text": [
      "\n"
     ]
    }
   ],
   "source": [
    "df_train = pd.DataFrame.from_records(tokenize_create_bio_tags(\"train\"))\n",
    "df_valid = pd.DataFrame.from_records(tokenize_create_bio_tags(\"valid\"))\n",
    "df_test = pd.DataFrame.from_records(tokenize_create_bio_tags(\"test\"))"
   ]
  },
  {
   "cell_type": "code",
   "execution_count": null,
   "metadata": {},
   "outputs": [],
   "source": [
    "# Visualize some examples\n",
    "for _, record in df_train.sample(20, random_state=42).iterrows():\n",
    "    print(record[\"file\"])\n",
    "    print(\"----------------\")\n",
    "    viz_text(record[\"tokens\"], record[\"bio_tags\"])"
   ]
  },
  {
   "cell_type": "code",
   "execution_count": null,
   "metadata": {},
   "outputs": [],
   "source": [
    "# Visualize some examples\n",
    "for _, record in df_valid.sample(10, random_state=42).iterrows():\n",
    "    print(record[\"file\"])\n",
    "    print(\"----------------\")\n",
    "    viz_text(record[\"tokens\"], record[\"bio_tags\"])"
   ]
  },
  {
   "cell_type": "code",
   "execution_count": null,
   "metadata": {},
   "outputs": [],
   "source": [
    "# Visualize some examples\n",
    "for _, record in df_test.sample(10, random_state=42).iterrows():\n",
    "    print(record[\"file\"])\n",
    "    print(\"----------------\")\n",
    "    viz_text(record[\"tokens\"], record[\"bio_tags\"])"
   ]
  },
  {
   "cell_type": "code",
   "execution_count": 10,
   "metadata": {},
   "outputs": [
    {
     "data": {
      "text/plain": [
       "(1842, 95, 198)"
      ]
     },
     "execution_count": 10,
     "metadata": {},
     "output_type": "execute_result"
    }
   ],
   "source": [
    "len(df_train), len(df_valid), len(df_test)"
   ]
  },
  {
   "cell_type": "code",
   "execution_count": 11,
   "metadata": {},
   "outputs": [],
   "source": [
    "df_train.to_json(\"../data/processed/ednyt/train.json\", orient=\"records\")\n",
    "df_valid.to_json(\"../data/processed/ednyt/valid.json\", orient=\"records\")\n",
    "df_test.to_json(\"../data/processed/ednyt/test.json\", orient=\"records\")"
   ]
  }
 ],
 "metadata": {
  "kernelspec": {
   "display_name": "phd",
   "language": "python",
   "name": "python3"
  },
  "language_info": {
   "codemirror_mode": {
    "name": "ipython",
    "version": 3
   },
   "file_extension": ".py",
   "mimetype": "text/x-python",
   "name": "python",
   "nbconvert_exporter": "python",
   "pygments_lexer": "ipython3",
   "version": "3.9.7"
  },
  "orig_nbformat": 4,
  "vscode": {
   "interpreter": {
    "hash": "e7f76fb381ebc64623dc8a8c6abeb22ff81eeddde5269602dfdd0d27a66e46ca"
   }
  }
 },
 "nbformat": 4,
 "nbformat_minor": 2
}
