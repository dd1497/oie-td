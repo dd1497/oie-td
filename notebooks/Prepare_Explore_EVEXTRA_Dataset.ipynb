{
 "cells": [
  {
   "attachments": {},
   "cell_type": "markdown",
   "metadata": {},
   "source": [
    "# Author: ddukic"
   ]
  },
  {
   "cell_type": "code",
   "execution_count": 1,
   "metadata": {},
   "outputs": [],
   "source": [
    "import xml.etree.ElementTree as ET\n",
    "import spacy\n",
    "from spacy import displacy\n",
    "from spacy.tokens import Doc\n",
    "import os\n",
    "import pandas as pd\n",
    "from tqdm import tqdm\n",
    "import re\n",
    "import string\n",
    "\n",
    "nlp = spacy.load(\"en_core_web_lg\")\n",
    "\n",
    "\n",
    "def viz_text(tokens, tags):\n",
    "    assert len(tokens) == len(tags)\n",
    "\n",
    "    doc = Doc(nlp.vocab, words=tokens, ents=tags)\n",
    "\n",
    "    displacy.render(\n",
    "        doc,\n",
    "        style=\"ent\",\n",
    "        options={\n",
    "            \"tag\": [\"Trigger\"],\n",
    "            \"colors\": {\"Trigger\": \"#ff6961\"},\n",
    "        },\n",
    "    )"
   ]
  },
  {
   "cell_type": "code",
   "execution_count": 2,
   "metadata": {},
   "outputs": [],
   "source": [
    "def check_length_of_triggers(file):\n",
    "    try:\n",
    "        tree = ET.parse(file)\n",
    "        root = tree.getroot()\n",
    "        for x in root:\n",
    "            if x.tag == \"Events\":\n",
    "                for event in x:\n",
    "                    if len(event[0].text.split(\" \")) > 1:\n",
    "                        print(event[0].text)\n",
    "        return False\n",
    "    except:\n",
    "        return True"
   ]
  },
  {
   "cell_type": "code",
   "execution_count": 3,
   "metadata": {},
   "outputs": [
    {
     "name": "stdout",
     "output_type": "stream",
     "text": [
      "Skip ratio:  0 / 531\n",
      "Skip ratio:  0 / 76\n",
      "Skip ratio:  0 / 152\n"
     ]
    }
   ],
   "source": [
    "def check_set(dataset=\"train\"):\n",
    "    skip_ratio = 0\n",
    "\n",
    "    files = os.listdir(os.path.join(\"../data/raw/evextra/\", dataset))\n",
    "\n",
    "    for fpath in files:\n",
    "        with open(os.path.join(\"../data/raw/evextra\", dataset, fpath), \"r\") as file:\n",
    "            if check_length_of_triggers(file):\n",
    "                skip_ratio += 1\n",
    "    print(\"Skip ratio: \", skip_ratio, \"/\", len(files))\n",
    "\n",
    "check_set(\"train\")\n",
    "check_set(\"valid\")\n",
    "check_set(\"test\")"
   ]
  },
  {
   "cell_type": "code",
   "execution_count": 4,
   "metadata": {},
   "outputs": [],
   "source": [
    "def flatten(l):\n",
    "    return [item for sublist in l for item in sublist]"
   ]
  },
  {
   "cell_type": "code",
   "execution_count": 5,
   "metadata": {},
   "outputs": [],
   "source": [
    "def parse_xml(file):\n",
    "    fname = file.name.split(\"/\")[-1]\n",
    "    tree = ET.parse(file)\n",
    "    root = tree.getroot()\n",
    "    events = []\n",
    "    sentences = []\n",
    "    tokens = []\n",
    "    for x in root:\n",
    "        if x.tag == \"Events\":\n",
    "            for event in x:\n",
    "                if event[0].tag == \"Event\":\n",
    "                    event_text = event[0].text\n",
    "                # position in text is mostly useless\n",
    "                events.append(event_text)\n",
    "        if x.tag == \"Sentences\":\n",
    "            for sentence in x:\n",
    "                tokens = []\n",
    "                if sentence[0].tag == \"Text\":\n",
    "                    for token in sentence[2]:\n",
    "                        if token[0].tag == \"Value\":\n",
    "                            tokens.append(token[0].text)\n",
    "                    sentences.append(tokens)\n",
    "    bio_tags = []\n",
    "    event_glue_position = 0\n",
    "    for sentence in sentences:\n",
    "        bio_tags_sentence = []\n",
    "        for i, token in enumerate(sentence):\n",
    "            # the dataset if full of errors\n",
    "            if (\n",
    "                event_glue_position < len(events)\n",
    "                and events[event_glue_position] == token\n",
    "            ):\n",
    "                bio_tags_sentence.append(\"B-Trigger\")\n",
    "                event_glue_position += 1\n",
    "            # fallback\n",
    "            elif (\n",
    "                event_glue_position < len(events)\n",
    "                and events[event_glue_position] in token\n",
    "            ):\n",
    "                # check the neighborhood, heuristic of 5 tokens\n",
    "                if events[event_glue_position] in sentence[max(0, i - 5) : i + 5]:\n",
    "                    bio_tags_sentence.append(\"O\")\n",
    "                    continue\n",
    "                else:\n",
    "                    # in this dataset there are only one trigger words\n",
    "                    bio_tags_sentence.append(\"B-Trigger\")\n",
    "                    event_glue_position += 1\n",
    "            else:\n",
    "                bio_tags_sentence.append(\"O\")\n",
    "\n",
    "        bio_tags.append(bio_tags_sentence)\n",
    "\n",
    "    if sum([True if x == \"B-Trigger\" else False for x in flatten(bio_tags)]) != len(\n",
    "        events\n",
    "    ):\n",
    "        print(\n",
    "            \"fail\",\n",
    "            fname,\n",
    "            sum([True if x == \"B-Trigger\" else False for x in flatten(bio_tags)]),\n",
    "            \"!=\",\n",
    "            len(events),\n",
    "        )\n",
    "        return [], []\n",
    "\n",
    "    return sentences, bio_tags"
   ]
  },
  {
   "cell_type": "code",
   "execution_count": 6,
   "metadata": {},
   "outputs": [],
   "source": [
    "with open(\"../data/raw/evextra/train/PeloponnesianWar.xml\") as f:\n",
    "    toks, tags = parse_xml(f)"
   ]
  },
  {
   "cell_type": "code",
   "execution_count": 7,
   "metadata": {},
   "outputs": [
    {
     "data": {
      "text/html": [
       "<span class=\"tex2jax_ignore\"><div class=\"entities\" style=\"line-height: 2.5; direction: ltr\">The Peloponnesian \n",
       "<mark class=\"entity\" style=\"background: #ff6961; padding: 0.45em 0.6em; margin: 0 0.25em; line-height: 1; border-radius: 0.35em;\">\n",
       "    War\n",
       "    <span style=\"font-size: 0.8em; font-weight: bold; line-height: 1; border-radius: 0.35em; vertical-align: middle; margin-left: 0.5rem\">Trigger</span>\n",
       "</mark>\n",
       " , 431 to 404 BC , was an ancient Greek \n",
       "<mark class=\"entity\" style=\"background: #ff6961; padding: 0.45em 0.6em; margin: 0 0.25em; line-height: 1; border-radius: 0.35em;\">\n",
       "    war\n",
       "    <span style=\"font-size: 0.8em; font-weight: bold; line-height: 1; border-radius: 0.35em; vertical-align: middle; margin-left: 0.5rem\">Trigger</span>\n",
       "</mark>\n",
       " \n",
       "<mark class=\"entity\" style=\"background: #ff6961; padding: 0.45em 0.6em; margin: 0 0.25em; line-height: 1; border-radius: 0.35em;\">\n",
       "    fought\n",
       "    <span style=\"font-size: 0.8em; font-weight: bold; line-height: 1; border-radius: 0.35em; vertical-align: middle; margin-left: 0.5rem\">Trigger</span>\n",
       "</mark>\n",
       " by Athens and its empire against the Peloponnesian League led by Sparta . </div></span>"
      ],
      "text/plain": [
       "<IPython.core.display.HTML object>"
      ]
     },
     "metadata": {},
     "output_type": "display_data"
    }
   ],
   "source": [
    "viz_text(toks[0], tags[0])"
   ]
  },
  {
   "cell_type": "code",
   "execution_count": 8,
   "metadata": {},
   "outputs": [],
   "source": [
    "def tokenize_create_bio_tags(dataset=\"train\"):\n",
    "    records = []\n",
    "\n",
    "    files = os.listdir(os.path.join(\"../data/raw/evextra/\", dataset))\n",
    "\n",
    "    for fpath in tqdm(files):\n",
    "        with open(os.path.join(\"../data/raw/evextra\", dataset, fpath), \"r\") as file:\n",
    "            tokens, tags = parse_xml(file)\n",
    "            if len(tokens) > 0:\n",
    "                for i, (tk, tg) in enumerate(zip(tokens, tags)):\n",
    "                    assert len(tk) == len(tg)\n",
    "                    records.append({\n",
    "                        \"file\": fpath,\n",
    "                        \"sent_id\": i,\n",
    "                        \"tokens\": tk,\n",
    "                        \"bio_tags\": tg\n",
    "                    })\n",
    "            else:\n",
    "                print(\"Skipping!\")\n",
    "    return records"
   ]
  },
  {
   "cell_type": "code",
   "execution_count": 9,
   "metadata": {},
   "outputs": [
    {
     "name": "stderr",
     "output_type": "stream",
     "text": [
      "  1%|          | 3/531 [00:00<00:19, 27.37it/s]"
     ]
    },
    {
     "name": "stdout",
     "output_type": "stream",
     "text": [
      "fail article-15909.xml 5 != 6\n",
      "Skipping!\n",
      "fail article-633.xml 20 != 24\n",
      "Skipping!\n"
     ]
    },
    {
     "name": "stderr",
     "output_type": "stream",
     "text": [
      " 22%|██▏       | 119/531 [00:03<00:14, 28.60it/s]"
     ]
    },
    {
     "name": "stdout",
     "output_type": "stream",
     "text": [
      "fail article-4063.xml 7 != 33\n",
      "Skipping!\n"
     ]
    },
    {
     "name": "stderr",
     "output_type": "stream",
     "text": [
      " 31%|███       | 165/531 [00:05<00:12, 30.28it/s]"
     ]
    },
    {
     "name": "stdout",
     "output_type": "stream",
     "text": [
      "fail article-19903.xml 8 != 53\n",
      "Skipping!\n",
      "fail article-18545.xml 25 != 33\n",
      "Skipping!\n"
     ]
    },
    {
     "name": "stderr",
     "output_type": "stream",
     "text": [
      " 33%|███▎      | 173/531 [00:05<00:12, 28.11it/s]"
     ]
    },
    {
     "name": "stdout",
     "output_type": "stream",
     "text": [
      "fail article-11039.xml 14 != 37\n",
      "Skipping!\n"
     ]
    },
    {
     "name": "stderr",
     "output_type": "stream",
     "text": [
      " 44%|████▍     | 235/531 [00:07<00:09, 30.14it/s]"
     ]
    },
    {
     "name": "stdout",
     "output_type": "stream",
     "text": [
      "fail article-13154.xml 9 != 106\n",
      "Skipping!\n"
     ]
    },
    {
     "name": "stderr",
     "output_type": "stream",
     "text": [
      " 46%|████▌     | 243/531 [00:08<00:10, 28.32it/s]"
     ]
    },
    {
     "name": "stdout",
     "output_type": "stream",
     "text": [
      "fail article-2909.xml 20 != 25\n",
      "Skipping!\n"
     ]
    },
    {
     "name": "stderr",
     "output_type": "stream",
     "text": [
      " 63%|██████▎   | 334/531 [00:11<00:07, 25.96it/s]"
     ]
    },
    {
     "name": "stdout",
     "output_type": "stream",
     "text": [
      "fail article-10759.xml 69 != 93\n",
      "Skipping!\n"
     ]
    },
    {
     "name": "stderr",
     "output_type": "stream",
     "text": [
      " 66%|██████▌   | 350/531 [00:11<00:06, 29.06it/s]"
     ]
    },
    {
     "name": "stdout",
     "output_type": "stream",
     "text": [
      "fail article-13301.xml 8 != 24\n",
      "Skipping!\n"
     ]
    },
    {
     "name": "stderr",
     "output_type": "stream",
     "text": [
      " 68%|██████▊   | 361/531 [00:12<00:06, 25.32it/s]"
     ]
    },
    {
     "name": "stdout",
     "output_type": "stream",
     "text": [
      "fail article-13822.xml 12 != 25\n",
      "Skipping!\n"
     ]
    },
    {
     "name": "stderr",
     "output_type": "stream",
     "text": [
      " 76%|███████▋  | 405/531 [00:13<00:04, 30.92it/s]"
     ]
    },
    {
     "name": "stdout",
     "output_type": "stream",
     "text": [
      "fail article-22966.xml 22 != 24\n",
      "Skipping!\n"
     ]
    },
    {
     "name": "stderr",
     "output_type": "stream",
     "text": [
      " 80%|███████▉  | 423/531 [00:14<00:03, 33.81it/s]"
     ]
    },
    {
     "name": "stdout",
     "output_type": "stream",
     "text": [
      "fail article-10500.xml 2 != 31\n",
      "Skipping!\n"
     ]
    },
    {
     "name": "stderr",
     "output_type": "stream",
     "text": [
      " 81%|████████  | 431/531 [00:14<00:03, 28.34it/s]"
     ]
    },
    {
     "name": "stdout",
     "output_type": "stream",
     "text": [
      "fail article-2736.xml 4 != 11\n",
      "Skipping!\n",
      "fail article-15248.xml 4 != 48\n",
      "Skipping!\n"
     ]
    },
    {
     "name": "stderr",
     "output_type": "stream",
     "text": [
      " 86%|████████▌ | 456/531 [00:15<00:02, 27.84it/s]"
     ]
    },
    {
     "name": "stdout",
     "output_type": "stream",
     "text": [
      "fail article-13533.xml 7 != 9\n",
      "Skipping!\n"
     ]
    },
    {
     "name": "stderr",
     "output_type": "stream",
     "text": [
      "100%|██████████| 531/531 [00:18<00:00, 29.46it/s]\n",
      " 12%|█▏        | 9/76 [00:00<00:02, 28.35it/s]"
     ]
    },
    {
     "name": "stdout",
     "output_type": "stream",
     "text": [
      "fail article-9052.xml 16 != 54\n",
      "Skipping!\n"
     ]
    },
    {
     "name": "stderr",
     "output_type": "stream",
     "text": [
      "100%|██████████| 76/76 [00:02<00:00, 29.60it/s]\n",
      " 18%|█▊        | 28/152 [00:01<00:06, 20.25it/s]"
     ]
    },
    {
     "name": "stdout",
     "output_type": "stream",
     "text": [
      "fail article-5182.xml 11 != 19\n",
      "Skipping!\n"
     ]
    },
    {
     "name": "stderr",
     "output_type": "stream",
     "text": [
      " 44%|████▍     | 67/152 [00:02<00:02, 31.24it/s]"
     ]
    },
    {
     "name": "stdout",
     "output_type": "stream",
     "text": [
      "fail article-10529.xml 60 != 72\n",
      "Skipping!\n"
     ]
    },
    {
     "name": "stderr",
     "output_type": "stream",
     "text": [
      " 99%|█████████▊| 150/152 [00:05<00:00, 27.98it/s]"
     ]
    },
    {
     "name": "stdout",
     "output_type": "stream",
     "text": [
      "fail article-5402.xml 27 != 30\n",
      "Skipping!\n",
      "fail article-15696.xml 40 != 50\n",
      "Skipping!\n"
     ]
    },
    {
     "name": "stderr",
     "output_type": "stream",
     "text": [
      "100%|██████████| 152/152 [00:05<00:00, 26.46it/s]\n"
     ]
    }
   ],
   "source": [
    "df_train = pd.DataFrame.from_records(tokenize_create_bio_tags(\"train\"))\n",
    "df_valid = pd.DataFrame.from_records(tokenize_create_bio_tags(\"valid\"))\n",
    "df_test = pd.DataFrame.from_records(tokenize_create_bio_tags(\"test\"))"
   ]
  },
  {
   "cell_type": "code",
   "execution_count": 10,
   "metadata": {},
   "outputs": [
    {
     "data": {
      "text/plain": [
       "(8534, 1103, 2482)"
      ]
     },
     "execution_count": 10,
     "metadata": {},
     "output_type": "execute_result"
    }
   ],
   "source": [
    "len(df_train), len(df_valid), len(df_test)"
   ]
  },
  {
   "cell_type": "code",
   "execution_count": null,
   "metadata": {},
   "outputs": [],
   "source": [
    "# Visualize some examples\n",
    "for _, record in df_train.sample(30, random_state=42).iterrows():\n",
    "    print(record[\"file\"])\n",
    "    print(\"----------------\")\n",
    "    viz_text(record[\"tokens\"], record[\"bio_tags\"])"
   ]
  },
  {
   "cell_type": "code",
   "execution_count": null,
   "metadata": {},
   "outputs": [],
   "source": [
    "# Visualize some examples\n",
    "for _, record in df_valid.sample(10, random_state=42).iterrows():\n",
    "    print(record[\"file\"])\n",
    "    print(\"----------------\")\n",
    "    viz_text(record[\"tokens\"], record[\"bio_tags\"])"
   ]
  },
  {
   "cell_type": "code",
   "execution_count": null,
   "metadata": {},
   "outputs": [],
   "source": [
    "# Visualize some examples\n",
    "for _, record in df_test.sample(30, random_state=42).iterrows():\n",
    "    print(record[\"file\"])\n",
    "    print(\"----------------\")\n",
    "    viz_text(record[\"tokens\"], record[\"bio_tags\"])"
   ]
  },
  {
   "cell_type": "code",
   "execution_count": 14,
   "metadata": {},
   "outputs": [],
   "source": [
    "df_train.to_json(\"../data/processed/evextra/train.json\", orient=\"records\")\n",
    "df_valid.to_json(\"../data/processed/evextra/valid.json\", orient=\"records\")\n",
    "df_test.to_json(\"../data/processed/evextra/test.json\", orient=\"records\")"
   ]
  }
 ],
 "metadata": {
  "kernelspec": {
   "display_name": "phd",
   "language": "python",
   "name": "python3"
  },
  "language_info": {
   "codemirror_mode": {
    "name": "ipython",
    "version": 3
   },
   "file_extension": ".py",
   "mimetype": "text/x-python",
   "name": "python",
   "nbconvert_exporter": "python",
   "pygments_lexer": "ipython3",
   "version": "3.9.7"
  },
  "orig_nbformat": 4,
  "vscode": {
   "interpreter": {
    "hash": "e7f76fb381ebc64623dc8a8c6abeb22ff81eeddde5269602dfdd0d27a66e46ca"
   }
  }
 },
 "nbformat": 4,
 "nbformat_minor": 2
}
