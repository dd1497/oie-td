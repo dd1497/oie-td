{
 "cells": [
  {
   "cell_type": "markdown",
   "metadata": {},
   "source": [
    "# Author: ddukic"
   ]
  },
  {
   "cell_type": "code",
   "execution_count": 131,
   "metadata": {},
   "outputs": [],
   "source": [
    "import sys\n",
    "\n",
    "sys.path.append(\"../baselines/\")\n",
    "from collections import defaultdict\n",
    "from dataset import MavenDataset, ACE2005Dataset, EVEXTRADataset, EDNYTDataset\n",
    "import seqeval\n",
    "from transformers import AutoTokenizer\n",
    "from util import *\n",
    "import json\n",
    "\n",
    "dataset_map = {\n",
    "    \"ACE2005\": [ACE2005Dataset, \"ace\", \"../data/raw/ace/test.json\"],\n",
    "    \"Maven\": [MavenDataset, \"maven\", \"../data/raw/maven/valid.jsonl\"],\n",
    "    \"EVEXTRA\": [EVEXTRADataset, \"evextra\", \"../data/processed/evextra/test.json\"],\n",
    "    \"EDNYT\": [EDNYTDataset, \"ednyt\", \"../data/processed/ednyt/test.json\"],\n",
    "}\n",
    "\n",
    "tokenizer = AutoTokenizer.from_pretrained(\n",
    "    \"roberta-base\", add_prefix_space=True, do_lower_case=False\n",
    ")"
   ]
  },
  {
   "cell_type": "code",
   "execution_count": 134,
   "metadata": {},
   "outputs": [],
   "source": [
    "def get_metrics(dataset=\"ACE2005\"):\n",
    "    dataset_picked = dataset_map[dataset]\n",
    "    with open(\n",
    "        \"../data/processed/mini/\"\n",
    "        + dataset_picked[1]\n",
    "        + \"_test_triplets_filtered_merged.json\",\n",
    "        \"r\",\n",
    "    ) as f:\n",
    "        mini = json.load(f)\n",
    "    all_triggers, idx2trigger, trigger2idx = build_vocab([\"Trigger\"])\n",
    "    dataset_test = dataset_picked[0](\n",
    "        fpath=dataset_picked[2],\n",
    "        tokenizer=tokenizer,\n",
    "        trigger2id=trigger2idx,\n",
    "        task=\"trigger identification\",\n",
    "    )\n",
    "\n",
    "    tags_pred = []\n",
    "    tags_true = []\n",
    "\n",
    "    for i in range(len(dataset_test.triggers)):\n",
    "        if str(i) in mini.keys():\n",
    "            if mini[str(i)][\"tokens\"] == dataset_test.tokens[i]:\n",
    "                pred = []\n",
    "                for x in mini[str(i)][\"bio_tags\"][0]:\n",
    "                    if \"Relation\" in x:\n",
    "                        pred.append(x.split(\"-\")[0] + \"-Trigger\")\n",
    "                    else:\n",
    "                        pred.append(\"O\")\n",
    "            else:\n",
    "                print(\"Problem with index \", str(i))\n",
    "                continue\n",
    "            tags_pred.append(pred)\n",
    "        else:\n",
    "            tags_pred.append([\"O\"] * len(dataset_test.triggers[i]))\n",
    "        tags_true.append(dataset_test.triggers[i])\n",
    "\n",
    "    return seqeval.compute(\n",
    "        predictions=tags_pred, references=tags_true, scheme=\"IOB2\", mode=\"strict\"\n",
    "    )\n"
   ]
  },
  {
   "cell_type": "code",
   "execution_count": 135,
   "metadata": {},
   "outputs": [
    {
     "data": {
      "text/plain": [
       "{'Trigger': {'precision': 0.03205128205128205,\n",
       "  'recall': 0.035545023696682464,\n",
       "  'f1': 0.033707865168539325,\n",
       "  'number': 422},\n",
       " 'overall_precision': 0.03205128205128205,\n",
       " 'overall_recall': 0.035545023696682464,\n",
       " 'overall_f1': 0.033707865168539325,\n",
       " 'overall_accuracy': 0.928023758099352}"
      ]
     },
     "execution_count": 135,
     "metadata": {},
     "output_type": "execute_result"
    }
   ],
   "source": [
    "# ACE2005\n",
    "get_metrics(dataset=\"ACE2005\")"
   ]
  },
  {
   "cell_type": "code",
   "execution_count": 136,
   "metadata": {},
   "outputs": [
    {
     "data": {
      "text/plain": [
       "{'Trigger': {'precision': 0.20375284306292646,\n",
       "  'recall': 0.056866271688531526,\n",
       "  'f1': 0.08891645988420183,\n",
       "  'number': 18904},\n",
       " 'overall_precision': 0.20375284306292646,\n",
       " 'overall_recall': 0.056866271688531526,\n",
       " 'overall_f1': 0.08891645988420183,\n",
       " 'overall_accuracy': 0.8797737538864663}"
      ]
     },
     "execution_count": 136,
     "metadata": {},
     "output_type": "execute_result"
    }
   ],
   "source": [
    "# Maven\n",
    "get_metrics(dataset=\"Maven\")"
   ]
  },
  {
   "cell_type": "code",
   "execution_count": 137,
   "metadata": {},
   "outputs": [
    {
     "data": {
      "text/plain": [
       "{'Trigger': {'precision': 0.06382978723404255,\n",
       "  'recall': 0.021791767554479417,\n",
       "  'f1': 0.03249097472924188,\n",
       "  'number': 413},\n",
       " 'overall_precision': 0.06382978723404255,\n",
       " 'overall_recall': 0.021791767554479417,\n",
       " 'overall_f1': 0.03249097472924188,\n",
       " 'overall_accuracy': 0.9069833191970597}"
      ]
     },
     "execution_count": 137,
     "metadata": {},
     "output_type": "execute_result"
    }
   ],
   "source": [
    "# EDNYT\n",
    "get_metrics(dataset=\"EDNYT\")"
   ]
  },
  {
   "cell_type": "code",
   "execution_count": 138,
   "metadata": {},
   "outputs": [
    {
     "name": "stdout",
     "output_type": "stream",
     "text": [
      "Problem with index  2156\n"
     ]
    },
    {
     "data": {
      "text/plain": [
       "{'Trigger': {'precision': 0.1712403951701427,\n",
       "  'recall': 0.06319627304030788,\n",
       "  'f1': 0.0923213493120284,\n",
       "  'number': 4937},\n",
       " 'overall_precision': 0.1712403951701427,\n",
       " 'overall_recall': 0.06319627304030788,\n",
       " 'overall_f1': 0.0923213493120284,\n",
       " 'overall_accuracy': 0.8840432195427498}"
      ]
     },
     "execution_count": 138,
     "metadata": {},
     "output_type": "execute_result"
    }
   ],
   "source": [
    "# Evextra\n",
    "get_metrics(dataset=\"EVEXTRA\")"
   ]
  }
 ],
 "metadata": {
  "kernelspec": {
   "display_name": "phd",
   "language": "python",
   "name": "python3"
  },
  "language_info": {
   "codemirror_mode": {
    "name": "ipython",
    "version": 3
   },
   "file_extension": ".py",
   "mimetype": "text/x-python",
   "name": "python",
   "nbconvert_exporter": "python",
   "pygments_lexer": "ipython3",
   "version": "3.9.7"
  },
  "orig_nbformat": 4
 },
 "nbformat": 4,
 "nbformat_minor": 2
}
