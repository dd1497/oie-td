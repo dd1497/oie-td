{
 "cells": [
  {
   "attachments": {},
   "cell_type": "markdown",
   "id": "3627444f",
   "metadata": {
    "pycharm": {
     "name": "#%% md\n"
    }
   },
   "source": [
    "# Author: ddukic"
   ]
  },
  {
   "cell_type": "markdown",
   "id": "757d8136",
   "metadata": {
    "pycharm": {
     "name": "#%% md\n"
    }
   },
   "source": [
    "## Import libraries"
   ]
  },
  {
   "cell_type": "code",
   "execution_count": 41,
   "id": "5e12cb81",
   "metadata": {
    "execution": {
     "iopub.execute_input": "2022-04-21T14:42:17.578233Z",
     "iopub.status.busy": "2022-04-21T14:42:17.577617Z",
     "iopub.status.idle": "2022-04-21T14:42:17.594035Z",
     "shell.execute_reply": "2022-04-21T14:42:17.593604Z"
    },
    "pycharm": {
     "name": "#%%\n"
    }
   },
   "outputs": [],
   "source": [
    "import os\n",
    "from tqdm import tqdm\n",
    "import json\n",
    "from tqdm import tqdm\n",
    "from collections import Counter\n",
    "from collections import defaultdict\n",
    "\n",
    "# tpath = \"../data/processed/mini/evextra_\"\n",
    "tpath = \"../data/processed/stanford/evextra_\"\n",
    "file = \"test\""
   ]
  },
  {
   "cell_type": "markdown",
   "id": "2086e407",
   "metadata": {},
   "source": [
    "## Help functions"
   ]
  },
  {
   "cell_type": "code",
   "execution_count": 42,
   "id": "65a3738c",
   "metadata": {
    "execution": {
     "iopub.execute_input": "2022-04-21T14:42:17.601383Z",
     "iopub.status.busy": "2022-04-21T14:42:17.601195Z",
     "iopub.status.idle": "2022-04-21T14:42:17.607183Z",
     "shell.execute_reply": "2022-04-21T14:42:17.606617Z"
    },
    "pycharm": {
     "name": "#%%\n"
    }
   },
   "outputs": [],
   "source": [
    "def convert_bio(tags, tag=\"Subject\"):\n",
    "    return [\n",
    "        (\"B-\" + tag, x[1]) if i == 0 else (\"I-\" + tag, x[1]) for i, x in enumerate(tags)\n",
    "    ]\n",
    "\n",
    "\n",
    "def create_bio_tags(triplet_tokens, subject_, relation_, object_):\n",
    "    bio_tags = [\"O\"] * len(triplet_tokens)\n",
    "\n",
    "    subject_bio = convert_bio(subject_)\n",
    "    relation_bio = convert_bio(relation_, \"Relation\")\n",
    "    object_bio = convert_bio(object_, \"Object\")\n",
    "\n",
    "    # for some reason MINI indexes go from 1\n",
    "    for s in subject_bio:\n",
    "        bio_tags[s[1] - 1] = s[0]\n",
    "\n",
    "    for r in relation_bio:\n",
    "        bio_tags[r[1] - 1] = r[0]\n",
    "\n",
    "    for o in object_bio:\n",
    "        bio_tags[o[1] - 1] = o[0]\n",
    "\n",
    "    return bio_tags\n",
    "\n",
    "\n",
    "def is_implicit(t):\n",
    "    return (\n",
    "        any(\"--2\" in x for x in t[\"subject\"])\n",
    "        or any(\"--2\" in x for x in t[\"relation\"])\n",
    "        or any(\"--2\" in x for x in t[\"object\"])\n",
    "    )\n",
    "\n",
    "\n",
    "def special_split(x):\n",
    "    if \"--2\" in x:\n",
    "        return [x.split(\"-\", 1)[0], int(x.split(\"-\", 1)[1])]\n",
    "    else:\n",
    "        return [x.rsplit(\"-\", 1)[0], int(x.rsplit(\"-\", 1)[1])]"
   ]
  },
  {
   "cell_type": "code",
   "execution_count": 43,
   "id": "19549a5c",
   "metadata": {},
   "outputs": [],
   "source": [
    "def read_triplets(save=True):\n",
    "    triplets = {}\n",
    "    triplet_ids = set()\n",
    "    with open(tpath + file + \"_triplets.json\", \"r\") as f:\n",
    "        data = json.load(f)\n",
    "        for k, v in tqdm(data.items()):\n",
    "            tokens = data[k][\"tokens\"][\"tokens\"]\n",
    "            sentence_triplets = [\n",
    "                {sro: [special_split(x) for x in idx] for sro, idx in values.items()}\n",
    "                for entry, values in data[k].items()\n",
    "                if \"triplet\" in entry and not is_implicit(values)\n",
    "            ]\n",
    "\n",
    "            if len(sentence_triplets) > 0:\n",
    "                triplets[k] = {\n",
    "                    \"tokens\": tokens,\n",
    "                    \"triplets\": sentence_triplets,\n",
    "                }\n",
    "\n",
    "                triplets[k][\"bio_tags\"] = [\n",
    "                    create_bio_tags(tokens, t[\"subject\"], t[\"relation\"], t[\"object\"])\n",
    "                    for t in triplets[k][\"triplets\"]\n",
    "                ]\n",
    "    if save:\n",
    "        with open(tpath + file + \"_triplets_bio_all.json\", \"w\") as f:\n",
    "            json.dump(triplets, f)\n",
    "    return triplets"
   ]
  },
  {
   "cell_type": "code",
   "execution_count": 44,
   "id": "32fdf97c",
   "metadata": {},
   "outputs": [
    {
     "name": "stderr",
     "output_type": "stream",
     "text": [
      "100%|██████████| 2482/2482 [00:00<00:00, 5595.11it/s]\n"
     ]
    }
   ],
   "source": [
    "triplets = read_triplets(save=False)"
   ]
  },
  {
   "cell_type": "code",
   "execution_count": 45,
   "id": "2a04e200",
   "metadata": {
    "execution": {
     "iopub.execute_input": "2022-04-21T14:42:25.240074Z",
     "iopub.status.busy": "2022-04-21T14:42:25.239652Z",
     "iopub.status.idle": "2022-04-21T14:42:25.251205Z",
     "shell.execute_reply": "2022-04-21T14:42:25.250625Z"
    },
    "pycharm": {
     "name": "#%%\n"
    }
   },
   "outputs": [
    {
     "name": "stdout",
     "output_type": "stream",
     "text": [
      "1844\n"
     ]
    }
   ],
   "source": [
    "# this is the number of sentences with at least one triplet\n",
    "print(len(triplets))"
   ]
  },
  {
   "cell_type": "markdown",
   "id": "279bab10",
   "metadata": {
    "pycharm": {
     "name": "#%% md\n"
    }
   },
   "source": [
    "## Filter non-consecutive BIO tags, non_triplets, more than five tokens, empty fields"
   ]
  },
  {
   "cell_type": "code",
   "execution_count": 46,
   "id": "1c6b9e64",
   "metadata": {
    "execution": {
     "iopub.execute_input": "2022-04-21T14:42:25.253773Z",
     "iopub.status.busy": "2022-04-21T14:42:25.253541Z",
     "iopub.status.idle": "2022-04-21T14:42:25.258025Z",
     "shell.execute_reply": "2022-04-21T14:42:25.257192Z"
    },
    "pycharm": {
     "name": "#%%\n"
    }
   },
   "outputs": [],
   "source": [
    "def is_bio_sequent(bio_tags):\n",
    "    i_positions = []\n",
    "    for i, token in enumerate(bio_tags):\n",
    "        if token.startswith(\"I-\"):\n",
    "            i_positions.append(i)\n",
    "    for position in i_positions:\n",
    "        current_tag = bio_tags[position]\n",
    "        previous_tag = bio_tags[position - 1]\n",
    "        if not previous_tag == current_tag and not (\n",
    "            previous_tag == \"B-\" + current_tag.split(\"-\")[1]\n",
    "        ):\n",
    "            return False\n",
    "    return True\n",
    "\n",
    "\n",
    "def contains_triplet(bio_tags):\n",
    "    return (\n",
    "        \"B-Subject\" in bio_tags and \"B-Relation\" in bio_tags and \"B-Object\" in bio_tags\n",
    "    )\n",
    "\n",
    "\n",
    "def longer_than_five(x):\n",
    "    return sum([\"Relation\" in elem for elem in x]) > 5\n",
    "\n",
    "\n",
    "def check_empty(s, r, o):\n",
    "    if len(s) == 0 or len(r) == 0 or len(o) == 0:\n",
    "        return True"
   ]
  },
  {
   "cell_type": "code",
   "execution_count": 47,
   "id": "5b461a55",
   "metadata": {
    "execution": {
     "iopub.execute_input": "2022-04-21T14:42:25.260937Z",
     "iopub.status.busy": "2022-04-21T14:42:25.260474Z",
     "iopub.status.idle": "2022-04-21T14:42:25.279045Z",
     "shell.execute_reply": "2022-04-21T14:42:25.278450Z"
    },
    "pycharm": {
     "name": "#%%\n"
    }
   },
   "outputs": [
    {
     "name": "stderr",
     "output_type": "stream",
     "text": [
      "100%|██████████| 1844/1844 [00:00<00:00, 20697.70it/s]\n"
     ]
    }
   ],
   "source": [
    "triplets_filtered_first = defaultdict(lambda: defaultdict(str))\n",
    "\n",
    "for k, v in tqdm(triplets.items()):\n",
    "    triplet_filtered = []\n",
    "    tag_filtered = []\n",
    "    for ts, tags in zip(v[\"triplets\"], v[\"bio_tags\"]):\n",
    "        if (\n",
    "            is_bio_sequent(tags)\n",
    "            and contains_triplet(tags)\n",
    "            and not longer_than_five(tags)\n",
    "            and not check_empty(*[ts[x] for x in [\"subject\", \"relation\", \"object\"]])\n",
    "        ):\n",
    "            triplet_filtered.append(ts)\n",
    "            tag_filtered.append(tags)\n",
    "    if len(tag_filtered) > 0:\n",
    "        triplets_filtered_first[k][\"tokens\"] = v[\"tokens\"]\n",
    "        triplets_filtered_first[k][\"triplets\"] = triplet_filtered\n",
    "        triplets_filtered_first[k][\"bio_tags\"] = tag_filtered"
   ]
  },
  {
   "cell_type": "code",
   "execution_count": 48,
   "id": "3c268a45",
   "metadata": {
    "execution": {
     "iopub.execute_input": "2022-04-21T14:42:25.281482Z",
     "iopub.status.busy": "2022-04-21T14:42:25.281295Z",
     "iopub.status.idle": "2022-04-21T14:42:25.284949Z",
     "shell.execute_reply": "2022-04-21T14:42:25.284351Z"
    },
    "pycharm": {
     "name": "#%%\n"
    }
   },
   "outputs": [
    {
     "name": "stdout",
     "output_type": "stream",
     "text": [
      "1637\n"
     ]
    }
   ],
   "source": [
    "print(len(triplets_filtered_first))"
   ]
  },
  {
   "cell_type": "markdown",
   "id": "c5b28b1a",
   "metadata": {},
   "source": [
    "## Check how many instances have the data in some other order than SRO"
   ]
  },
  {
   "cell_type": "code",
   "execution_count": 49,
   "id": "10ebd286",
   "metadata": {},
   "outputs": [],
   "source": [
    "def sro_order(s, r, o):\n",
    "    for s_e in s:\n",
    "        for r_e in r:\n",
    "            if not (s_e[1] < r_e[1]):\n",
    "                return False\n",
    "\n",
    "    for r_e in r:\n",
    "        for o_e in o:\n",
    "            if not (r_e[1] < o_e[1]):\n",
    "                return False\n",
    "\n",
    "    return True\n",
    "\n",
    "\n",
    "def check_data(data):\n",
    "    discard = defaultdict(list)\n",
    "    for k, v in data.items():\n",
    "        for i, triplet in enumerate(v[\"triplets\"]):\n",
    "            if not sro_order(triplet[\"subject\"], triplet[\"relation\"], triplet[\"object\"]):\n",
    "                discard[k].append(i)\n",
    "    return discard\n",
    "\n",
    "\n",
    "triplets_to_discard = check_data(triplets_filtered_first)"
   ]
  },
  {
   "cell_type": "code",
   "execution_count": 50,
   "id": "2dd7f54c",
   "metadata": {},
   "outputs": [
    {
     "name": "stderr",
     "output_type": "stream",
     "text": [
      "100%|██████████| 1637/1637 [00:00<00:00, 270498.98it/s]\n"
     ]
    }
   ],
   "source": [
    "triplets_filtered = defaultdict(lambda: defaultdict(str))\n",
    "\n",
    "for k, v in tqdm(triplets_filtered_first.items()):\n",
    "    if k not in triplets_to_discard.keys():\n",
    "        triplets_filtered[k][\"tokens\"] = triplets_filtered_first[k][\"tokens\"]\n",
    "        triplets_filtered[k][\"triplets\"] = triplets_filtered_first[k][\"triplets\"]\n",
    "        triplets_filtered[k][\"bio_tags\"] = triplets_filtered_first[k][\"bio_tags\"]\n",
    "    else:\n",
    "        for i, (ts, tags) in enumerate(zip(v[\"triplets\"], v[\"bio_tags\"])):\n",
    "            ts_final = []\n",
    "            tags_final = []\n",
    "            if i not in triplets_to_discard[k]:\n",
    "                ts_final.append(ts)\n",
    "                tags_final.append(tags)\n",
    "        if len(tags_final) > 0:\n",
    "            triplets_filtered[k][\"tokens\"] = triplets_filtered_first[k][\"tokens\"]\n",
    "            triplets_filtered[k][\"triplets\"] = ts_final\n",
    "            triplets_filtered[k][\"bio_tags\"] = tags_final"
   ]
  },
  {
   "cell_type": "code",
   "execution_count": 51,
   "id": "1de41e4c",
   "metadata": {},
   "outputs": [
    {
     "name": "stdout",
     "output_type": "stream",
     "text": [
      "1380\n"
     ]
    }
   ],
   "source": [
    "print(len(triplets_filtered))"
   ]
  },
  {
   "attachments": {},
   "cell_type": "markdown",
   "id": "3c3af4ba",
   "metadata": {},
   "source": [
    "## Deal with multiple labelings of the same sentence (merge if possible, if not keep the one with longest sum of BI tags)"
   ]
  },
  {
   "cell_type": "code",
   "execution_count": 52,
   "id": "ca291b9c",
   "metadata": {},
   "outputs": [],
   "source": [
    "def merge_tags(to_merge):\n",
    "    length = len(to_merge[0])\n",
    "    merged = [[] for _ in range(length)]\n",
    "    for i in range(length):\n",
    "        for x in to_merge:\n",
    "            merged[i].append(x[i])\n",
    "        if sum([x == \"O\" for x in merged[i]]) not in (len(to_merge) - 1, len(to_merge)):\n",
    "            return False, []\n",
    "    return True, [\n",
    "        x[0] if x.count(x[0]) == len(x) else next(y for y in x if y != \"O\")\n",
    "        for x in merged\n",
    "    ]\n",
    "\n",
    "def find_longest(bio_tags):\n",
    "    longest = 0\n",
    "    longest_idx = 0\n",
    "    for i, tags in enumerate(bio_tags):\n",
    "        length = sum([True if x != \"O\" else False for x in tags])\n",
    "        if length > longest:\n",
    "            longest = length\n",
    "            longest_idx = i\n",
    "    return bio_tags[longest_idx]"
   ]
  },
  {
   "cell_type": "code",
   "execution_count": 53,
   "id": "e49e8dd4",
   "metadata": {},
   "outputs": [
    {
     "name": "stderr",
     "output_type": "stream",
     "text": [
      "100%|██████████| 1380/1380 [00:00<00:00, 82164.20it/s]\n"
     ]
    }
   ],
   "source": [
    "triplets_final = {}\n",
    "\n",
    "for t in tqdm(triplets_filtered.keys()):\n",
    "    if len(triplets_filtered[t][\"triplets\"]) == 1:\n",
    "        triplets_final[t] = triplets_filtered[t]\n",
    "        triplets_final[t][\"triplets\"] = triplets_filtered[t][\"triplets\"]\n",
    "        triplets_final[t][\"bio_tags\"] = triplets_filtered[t][\"bio_tags\"]\n",
    "    else:\n",
    "        mergable, merged = merge_tags(triplets_filtered[t][\"bio_tags\"])\n",
    "        if mergable:\n",
    "            triplets_final[t] = triplets_filtered[t]\n",
    "            triplets_final[t][\"triplets\"] = triplets_filtered[t][\"triplets\"]\n",
    "            triplets_final[t][\"bio_tags\"] = [merged]\n",
    "        else:\n",
    "            triplets_final[t] = triplets_filtered[t]\n",
    "            triplets_final[t][\"triplets\"] = triplets_filtered[t][\"triplets\"]\n",
    "            triplets_final[t][\"bio_tags\"] = [find_longest(triplets_filtered[t][\"bio_tags\"])]"
   ]
  },
  {
   "cell_type": "code",
   "execution_count": 54,
   "id": "4f55d8d0",
   "metadata": {},
   "outputs": [
    {
     "name": "stdout",
     "output_type": "stream",
     "text": [
      "1380\n"
     ]
    }
   ],
   "source": [
    "print(len(triplets_final))"
   ]
  },
  {
   "cell_type": "markdown",
   "id": "cecddf77",
   "metadata": {},
   "source": [
    "## Viz some triplets"
   ]
  },
  {
   "cell_type": "code",
   "execution_count": 55,
   "id": "653e6056",
   "metadata": {},
   "outputs": [],
   "source": [
    "import spacy\n",
    "from spacy import displacy\n",
    "from spacy.tokens import Doc\n",
    "\n",
    "nlp = spacy.load(\"en_core_web_lg\")\n",
    "\n",
    "def viz_sentence(tokens, tags):\n",
    "    assert len(tokens) == len(tags)\n",
    "\n",
    "    doc = Doc(nlp.vocab, words=tokens, ents=tags)\n",
    "    \n",
    "    displacy.render(\n",
    "        doc,\n",
    "        style=\"ent\",\n",
    "        options={\n",
    "            \"ents\": [\"Subject\", \"Relation\", \"Object\"],\n",
    "            \"colors\": {\n",
    "                \"Subject\": \"#ff6961\",\n",
    "                \"Relation\": \"#3CB371\",\n",
    "                \"Object\": \"#85C1E9\",\n",
    "            },\n",
    "        },\n",
    "    )"
   ]
  },
  {
   "cell_type": "code",
   "execution_count": null,
   "id": "cadff980",
   "metadata": {},
   "outputs": [],
   "source": [
    "for i, (k, v) in enumerate(triplets_final.items()):\n",
    "    for tr, ta in zip(v[\"triplets\"], v[\"bio_tags\"]):\n",
    "        if i < 100:\n",
    "            try:\n",
    "               viz_sentence(v[\"tokens\"], ta)\n",
    "            except:\n",
    "                print(\"----------------\")\n",
    "                print(\"Problem with\", i)\n",
    "                print(\"----------------\")"
   ]
  },
  {
   "cell_type": "markdown",
   "id": "96ae3d53",
   "metadata": {},
   "source": [
    "## Total number of triplets"
   ]
  },
  {
   "cell_type": "code",
   "execution_count": 57,
   "id": "32e719d8",
   "metadata": {},
   "outputs": [
    {
     "data": {
      "text/plain": [
       "1380"
      ]
     },
     "execution_count": 57,
     "metadata": {},
     "output_type": "execute_result"
    }
   ],
   "source": [
    "total = 0\n",
    "\n",
    "for v in triplets_final.values():\n",
    "    total += len(v[\"bio_tags\"])\n",
    "    \n",
    "total"
   ]
  },
  {
   "cell_type": "markdown",
   "id": "6827a2dd",
   "metadata": {},
   "source": [
    "## Total number of relations without duplicates"
   ]
  },
  {
   "cell_type": "code",
   "execution_count": 58,
   "id": "5222d557",
   "metadata": {},
   "outputs": [
    {
     "data": {
      "text/plain": [
       "1371"
      ]
     },
     "execution_count": 58,
     "metadata": {},
     "output_type": "execute_result"
    }
   ],
   "source": [
    "visited = []\n",
    "\n",
    "for v in triplets_final.values():\n",
    "    tokens = v[\"tokens\"]\n",
    "    for bio_tags in v[\"bio_tags\"]:\n",
    "        pairs = []\n",
    "        for token, tag in zip(tokens, bio_tags):\n",
    "            pairs.append((token, tag if tag in [\"B-Relation\", \"I-Relation\"] else \"O\"))\n",
    "        if pairs not in visited:\n",
    "            visited.append(pairs)\n",
    "        \n",
    "len(visited)"
   ]
  },
  {
   "cell_type": "markdown",
   "id": "97396935",
   "metadata": {},
   "source": [
    "## Total number of triplets without duplicates"
   ]
  },
  {
   "cell_type": "code",
   "execution_count": 59,
   "id": "d8d53718",
   "metadata": {},
   "outputs": [
    {
     "data": {
      "text/plain": [
       "1371"
      ]
     },
     "execution_count": 59,
     "metadata": {},
     "output_type": "execute_result"
    }
   ],
   "source": [
    "visited = []\n",
    "\n",
    "for v in triplets_final.values():\n",
    "    tokens = v[\"tokens\"]\n",
    "    for bio_tags in v[\"bio_tags\"]:\n",
    "        pairs = []\n",
    "        for token, tag in zip(tokens, bio_tags):\n",
    "            pairs.append((token, tag))\n",
    "        if pairs not in visited:\n",
    "            visited.append(pairs)\n",
    "\n",
    "len(visited)"
   ]
  },
  {
   "cell_type": "markdown",
   "id": "5871e2ff",
   "metadata": {
    "pycharm": {
     "name": "#%% md\n"
    }
   },
   "source": [
    "## Dump to file"
   ]
  },
  {
   "cell_type": "code",
   "execution_count": 60,
   "id": "89009cbf",
   "metadata": {
    "execution": {
     "iopub.execute_input": "2022-04-21T14:42:25.354559Z",
     "iopub.status.busy": "2022-04-21T14:42:25.354174Z",
     "iopub.status.idle": "2022-04-21T14:42:25.372406Z",
     "shell.execute_reply": "2022-04-21T14:42:25.371773Z"
    },
    "pycharm": {
     "name": "#%%\n"
    }
   },
   "outputs": [],
   "source": [
    "with open(tpath + file + \"_triplets_filtered_merged.json\", \"w\") as f:\n",
    "    json.dump(triplets_final, f)"
   ]
  }
 ],
 "metadata": {
  "kernelspec": {
   "display_name": "phd",
   "language": "python",
   "name": "python3"
  },
  "language_info": {
   "codemirror_mode": {
    "name": "ipython",
    "version": 3
   },
   "file_extension": ".py",
   "mimetype": "text/x-python",
   "name": "python",
   "nbconvert_exporter": "python",
   "pygments_lexer": "ipython3",
   "version": "3.9.7"
  },
  "vscode": {
   "interpreter": {
    "hash": "e7f76fb381ebc64623dc8a8c6abeb22ff81eeddde5269602dfdd0d27a66e46ca"
   }
  }
 },
 "nbformat": 4,
 "nbformat_minor": 5
}
