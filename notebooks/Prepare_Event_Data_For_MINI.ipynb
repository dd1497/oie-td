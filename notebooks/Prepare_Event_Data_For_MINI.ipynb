{
 "cells": [
  {
   "attachments": {},
   "cell_type": "markdown",
   "id": "e4c9c1b2",
   "metadata": {},
   "source": [
    "# Author: ddukic"
   ]
  },
  {
   "cell_type": "code",
   "execution_count": 1,
   "id": "ed836d0b",
   "metadata": {},
   "outputs": [],
   "source": [
    "import json"
   ]
  },
  {
   "cell_type": "markdown",
   "id": "eef45dcb",
   "metadata": {},
   "source": [
    "## MAVEN"
   ]
  },
  {
   "cell_type": "code",
   "execution_count": 3,
   "id": "ec933dd2",
   "metadata": {},
   "outputs": [],
   "source": [
    "sentences = []\n",
    "\n",
    "with open(\"../data/raw/maven/train.jsonl\", \"r\", encoding=\"utf-8\") as f:\n",
    "    data = [json.loads(ln) for ln in f.readlines()]\n",
    "    for item in data:\n",
    "        tokens = [cnt[\"tokens\"] for cnt in item[\"content\"]]\n",
    "        for sent in tokens:\n",
    "            sentences.append(\" \".join(sent))"
   ]
  },
  {
   "cell_type": "code",
   "execution_count": 3,
   "id": "a122401a",
   "metadata": {},
   "outputs": [],
   "source": [
    "with open(\"../data/processed/maven_sentences_train.txt\", \"w\") as f:\n",
    "    f.writelines(\"\\n\".join(sentences))"
   ]
  },
  {
   "cell_type": "code",
   "execution_count": 4,
   "id": "c7d411d5",
   "metadata": {},
   "outputs": [],
   "source": [
    "# test set was not published so we treat valid set as test set\n",
    "\n",
    "sentences = []\n",
    "\n",
    "with open(\"../data/raw/maven/valid.jsonl\", \"r\", encoding=\"utf-8\") as f:\n",
    "    data = [json.loads(ln) for ln in f.readlines()]\n",
    "    for item in data:\n",
    "        tokens = [cnt[\"tokens\"] for cnt in item[\"content\"]]\n",
    "        for sent in tokens:\n",
    "            sentences.append(\" \".join(sent))"
   ]
  },
  {
   "cell_type": "code",
   "execution_count": 5,
   "id": "192bdd7b",
   "metadata": {},
   "outputs": [],
   "source": [
    "with open(\"../data/processed/maven_sentences_test.txt\", \"w\") as f:\n",
    "    f.writelines(\"\\n\".join(sentences))"
   ]
  },
  {
   "cell_type": "markdown",
   "id": "22e27965",
   "metadata": {},
   "source": [
    "## ACE"
   ]
  },
  {
   "cell_type": "code",
   "execution_count": 6,
   "id": "1e4f9477",
   "metadata": {},
   "outputs": [],
   "source": [
    "sentences = []\n",
    "\n",
    "with open(\"../data/raw/ace/train.json\", \"r\") as f:\n",
    "    data = json.load(f)\n",
    "    for item in data:\n",
    "        tokens = item[\"words\"]\n",
    "        sentences.append(\" \".join(tokens))"
   ]
  },
  {
   "cell_type": "code",
   "execution_count": 7,
   "id": "92611121",
   "metadata": {},
   "outputs": [],
   "source": [
    "with open(\"../data/processed/ace_sentences_train.txt\", \"w\") as f:\n",
    "    f.writelines(\"\\n\".join(sentences))"
   ]
  },
  {
   "cell_type": "code",
   "execution_count": 8,
   "id": "3cd0b564",
   "metadata": {},
   "outputs": [],
   "source": [
    "sentences = []\n",
    "\n",
    "with open(\"../data/raw/ace/test.json\", \"r\") as f:\n",
    "    data = json.load(f)\n",
    "    for item in data:\n",
    "        tokens = item[\"words\"]\n",
    "        sentences.append(\" \".join(tokens))"
   ]
  },
  {
   "cell_type": "code",
   "execution_count": 9,
   "id": "4ec82899",
   "metadata": {},
   "outputs": [],
   "source": [
    "with open(\"../data/processed/ace_sentences_test.txt\", \"w\") as f:\n",
    "    f.writelines(\"\\n\".join(sentences))"
   ]
  },
  {
   "cell_type": "code",
   "execution_count": 4,
   "id": "eb1eba01",
   "metadata": {},
   "outputs": [],
   "source": [
    "sentences = []\n",
    "\n",
    "with open(\"../data/raw/ace/dev.json\", \"r\") as f:\n",
    "    data = json.load(f)\n",
    "    for item in data:\n",
    "        tokens = item[\"words\"]\n",
    "        sentences.append(\" \".join(tokens))"
   ]
  },
  {
   "cell_type": "code",
   "execution_count": 5,
   "id": "21d75146",
   "metadata": {},
   "outputs": [],
   "source": [
    "with open(\"../data/processed/ace_sentences_dev.txt\", \"w\") as f:\n",
    "    f.writelines(\"\\n\".join(sentences))"
   ]
  },
  {
   "cell_type": "markdown",
   "id": "1910f100",
   "metadata": {},
   "source": [
    "## EDNYT"
   ]
  },
  {
   "cell_type": "code",
   "execution_count": 3,
   "id": "1e4f9477",
   "metadata": {},
   "outputs": [],
   "source": [
    "sentences = []\n",
    "\n",
    "with open(\"../data/processed/ednyt/train.json\", \"r\") as f:\n",
    "    data = json.load(f)\n",
    "    for item in data:\n",
    "        tokens = item[\"tokens\"]\n",
    "        sentences.append(\" \".join(tokens))"
   ]
  },
  {
   "cell_type": "code",
   "execution_count": 3,
   "id": "92611121",
   "metadata": {},
   "outputs": [],
   "source": [
    "with open(\"../data/processed/ednyt_sentences_train.txt\", \"w\") as f:\n",
    "    f.writelines(\"\\n\".join(sentences))"
   ]
  },
  {
   "cell_type": "code",
   "execution_count": 4,
   "id": "eb1eba01",
   "metadata": {},
   "outputs": [],
   "source": [
    "sentences = []\n",
    "\n",
    "with open(\"../data/processed/ednyt/valid.json\", \"r\") as f:\n",
    "    data = json.load(f)\n",
    "    for item in data:\n",
    "        tokens = item[\"tokens\"]\n",
    "        sentences.append(\" \".join(tokens))"
   ]
  },
  {
   "cell_type": "code",
   "execution_count": 5,
   "id": "21d75146",
   "metadata": {},
   "outputs": [],
   "source": [
    "with open(\"../data/processed/ednyt_sentences_valid.txt\", \"w\") as f:\n",
    "    f.writelines(\"\\n\".join(sentences))"
   ]
  },
  {
   "cell_type": "code",
   "execution_count": 6,
   "id": "3cd0b564",
   "metadata": {},
   "outputs": [],
   "source": [
    "sentences = []\n",
    "\n",
    "with open(\"../data/processed/ednyt/test.json\", \"r\") as f:\n",
    "    data = json.load(f)\n",
    "    for item in data:\n",
    "        tokens = item[\"tokens\"]\n",
    "        sentences.append(\" \".join(tokens))"
   ]
  },
  {
   "cell_type": "code",
   "execution_count": 7,
   "id": "4ec82899",
   "metadata": {},
   "outputs": [],
   "source": [
    "with open(\"../data/processed/ednyt_sentences_test.txt\", \"w\") as f:\n",
    "    f.writelines(\"\\n\".join(sentences))"
   ]
  },
  {
   "attachments": {},
   "cell_type": "markdown",
   "id": "c0e5804a",
   "metadata": {},
   "source": [
    "## EVEXTRA"
   ]
  },
  {
   "cell_type": "code",
   "execution_count": 2,
   "id": "1c60706e",
   "metadata": {},
   "outputs": [],
   "source": [
    "sentences = []\n",
    "\n",
    "with open(\"../data/processed/evextra/train.json\", \"r\") as f:\n",
    "    data = json.load(f)\n",
    "    for item in data:\n",
    "        tokens = item[\"tokens\"]\n",
    "        sentences.append(\" \".join(tokens))"
   ]
  },
  {
   "cell_type": "code",
   "execution_count": 3,
   "id": "19d95be6",
   "metadata": {},
   "outputs": [],
   "source": [
    "with open(\"../data/processed/evextra_sentences_train.txt\", \"w\") as f:\n",
    "    f.writelines(\"\\n\".join(sentences))"
   ]
  },
  {
   "cell_type": "code",
   "execution_count": 4,
   "id": "92081cb4",
   "metadata": {},
   "outputs": [],
   "source": [
    "sentences = []\n",
    "\n",
    "with open(\"../data/processed/evextra/valid.json\", \"r\") as f:\n",
    "    data = json.load(f)\n",
    "    for item in data:\n",
    "        tokens = item[\"tokens\"]\n",
    "        sentences.append(\" \".join(tokens))"
   ]
  },
  {
   "cell_type": "code",
   "execution_count": 5,
   "id": "414729c4",
   "metadata": {},
   "outputs": [],
   "source": [
    "with open(\"../data/processed/evextra_sentences_valid.txt\", \"w\") as f:\n",
    "    f.writelines(\"\\n\".join(sentences))"
   ]
  },
  {
   "cell_type": "code",
   "execution_count": 6,
   "id": "3187921e",
   "metadata": {},
   "outputs": [],
   "source": [
    "sentences = []\n",
    "\n",
    "with open(\"../data/processed/evextra/test.json\", \"r\") as f:\n",
    "    data = json.load(f)\n",
    "    for item in data:\n",
    "        tokens = item[\"tokens\"]\n",
    "        sentences.append(\" \".join(tokens))"
   ]
  },
  {
   "cell_type": "code",
   "execution_count": 7,
   "id": "cabeb400",
   "metadata": {},
   "outputs": [],
   "source": [
    "with open(\"../data/processed/evextra_sentences_test.txt\", \"w\") as f:\n",
    "    f.writelines(\"\\n\".join(sentences))"
   ]
  }
 ],
 "metadata": {
  "kernelspec": {
   "display_name": "phd",
   "language": "python",
   "name": "python3"
  },
  "language_info": {
   "codemirror_mode": {
    "name": "ipython",
    "version": 3
   },
   "file_extension": ".py",
   "mimetype": "text/x-python",
   "name": "python",
   "nbconvert_exporter": "python",
   "pygments_lexer": "ipython3",
   "version": "3.9.7"
  },
  "vscode": {
   "interpreter": {
    "hash": "e7f76fb381ebc64623dc8a8c6abeb22ff81eeddde5269602dfdd0d27a66e46ca"
   }
  }
 },
 "nbformat": 4,
 "nbformat_minor": 5
}
