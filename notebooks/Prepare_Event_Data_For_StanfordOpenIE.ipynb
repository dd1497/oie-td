{
 "cells": [
  {
   "cell_type": "markdown",
   "metadata": {},
   "source": [
    "# Author: ddukic"
   ]
  },
  {
   "cell_type": "code",
   "execution_count": 1,
   "metadata": {},
   "outputs": [
    {
     "name": "stderr",
     "output_type": "stream",
     "text": [
      "2023-05-11 12:50:21 INFO: Writing properties to tmp file: corenlp_server-bf4d33c3a71b4d33.props\n"
     ]
    }
   ],
   "source": [
    "import os\n",
    "\n",
    "os.environ[\"CORENLP_HOME\"] = \"/home/ddukic/oee/notebooks/.stanfordnlp_resources\"\n",
    "\n",
    "import json\n",
    "\n",
    "# Import client module\n",
    "from stanza.server import CoreNLPClient\n",
    "\n",
    "client = CoreNLPClient(\n",
    "    timeout=150000000,\n",
    "    be_quiet=True,\n",
    "    annotators=[\"openie\"],\n",
    "    endpoint=\"http://localhost:4242\",\n",
    ")"
   ]
  },
  {
   "cell_type": "code",
   "execution_count": 2,
   "metadata": {},
   "outputs": [],
   "source": [
    "implicit_realations = set()\n",
    "\n",
    "def extract_sro(extraction_dict, role, tokens):\n",
    "    t_list = []\n",
    "    idx_start = extraction_dict[role + \"Span\"][0]\n",
    "\n",
    "    first = True\n",
    "\n",
    "    for i, x in enumerate(extraction_dict[role].split()):\n",
    "        if i > 0:\n",
    "            first = False\n",
    "        if x not in tokens:\n",
    "            # stupid implicit extractions\n",
    "            implicit_realations.add(x)\n",
    "            t_list.append(x + \"-\" + str(-2))\n",
    "        else:\n",
    "            if first:\n",
    "                # add plus one to span start to be same as mini\n",
    "                t_list.append(x + \"-\" + str(idx_start + 1))\n",
    "            else:\n",
    "                for j in range(idx_start + 1, len(tokens)):\n",
    "                    if tokens[j] == x:\n",
    "                        # add plus one to span to be same as mini\n",
    "                        t_list.append(x + \"-\" + str(j + 1))\n",
    "\n",
    "    return t_list\n",
    "\n",
    "\n",
    "def annotate_sentences_from_file(file_path, out_file_name=\"ace_train_triplets.json\"):\n",
    "    out_path = \"../data/processed/stanford/\" + out_file_name\n",
    "\n",
    "    with open(file_path, \"r\") as f:\n",
    "        sentences = [line.strip() for line in f.readlines()]\n",
    "\n",
    "    # sentence counter\n",
    "    sent_counter = 0\n",
    "\n",
    "    triplets = {}\n",
    "\n",
    "    client.start()\n",
    "\n",
    "    for text in sentences:\n",
    "        # ensure to be the same as mini\n",
    "        annotated_text = client.annotate(\n",
    "            text,\n",
    "            properties={\n",
    "                \"language\": \"english\",\n",
    "                \"annotators\": \"tokenize, ssplit, pos, lemma, ner, depparse, openie\",\n",
    "                \"tokenize.whitespace\": \"true\",\n",
    "                \"ssplit.eolonly\": \"true\",\n",
    "                \"outputFormat\": \"json\",\n",
    "                \"parse.originalDependencies\": \"true\",\n",
    "            },\n",
    "        )\n",
    "\n",
    "        tokens = text.split()\n",
    "\n",
    "        # triplet counter\n",
    "        t_counter = 0\n",
    "        triplet_dict = {}\n",
    "        for triplet in annotated_text[\"sentences\"][0][\"openie\"]:\n",
    "            triplet_dict[\"triplet_\" + str(t_counter)] = {\n",
    "                \"subject\": extract_sro(triplet, \"subject\", tokens),\n",
    "                \"relation\": extract_sro(triplet, \"relation\", tokens),\n",
    "                \"object\": extract_sro(triplet, \"object\", tokens),\n",
    "            }\n",
    "            t_counter += 1\n",
    "\n",
    "        triplet_dict[\"tokens\"] = {\"tokens\": tokens}\n",
    "\n",
    "        triplets[str(sent_counter)] = triplet_dict\n",
    "\n",
    "        sent_counter += 1\n",
    "\n",
    "    with open(out_path, \"w\") as f:\n",
    "        json.dump(triplets, f)\n",
    "\n",
    "    client.stop()"
   ]
  },
  {
   "cell_type": "code",
   "execution_count": 3,
   "metadata": {},
   "outputs": [
    {
     "name": "stderr",
     "output_type": "stream",
     "text": [
      "2023-05-11 12:50:27 INFO: Starting server with command: java -Xmx5G -cp /home/ddukic/oee/notebooks/.stanfordnlp_resources/* edu.stanford.nlp.pipeline.StanfordCoreNLPServer -port 4242 -timeout 150000000 -threads 5 -maxCharLength 100000 -quiet True -serverProperties corenlp_server-bf4d33c3a71b4d33.props -annotators openie -preload -outputFormat serialized\n",
      "2023-05-11 13:02:49 INFO: Starting server with command: java -Xmx5G -cp /home/ddukic/oee/notebooks/.stanfordnlp_resources/* edu.stanford.nlp.pipeline.StanfordCoreNLPServer -port 4242 -timeout 150000000 -threads 5 -maxCharLength 100000 -quiet True -serverProperties corenlp_server-bf4d33c3a71b4d33.props -annotators openie -preload -outputFormat serialized\n",
      "2023-05-11 13:03:57 INFO: Starting server with command: java -Xmx5G -cp /home/ddukic/oee/notebooks/.stanfordnlp_resources/* edu.stanford.nlp.pipeline.StanfordCoreNLPServer -port 4242 -timeout 150000000 -threads 5 -maxCharLength 100000 -quiet True -serverProperties corenlp_server-bf4d33c3a71b4d33.props -annotators openie -preload -outputFormat serialized\n",
      "2023-05-11 13:05:10 INFO: Starting server with command: java -Xmx5G -cp /home/ddukic/oee/notebooks/.stanfordnlp_resources/* edu.stanford.nlp.pipeline.StanfordCoreNLPServer -port 4242 -timeout 150000000 -threads 5 -maxCharLength 100000 -quiet True -serverProperties corenlp_server-bf4d33c3a71b4d33.props -annotators openie -preload -outputFormat serialized\n",
      "2023-05-11 13:08:59 INFO: Starting server with command: java -Xmx5G -cp /home/ddukic/oee/notebooks/.stanfordnlp_resources/* edu.stanford.nlp.pipeline.StanfordCoreNLPServer -port 4242 -timeout 150000000 -threads 5 -maxCharLength 100000 -quiet True -serverProperties corenlp_server-bf4d33c3a71b4d33.props -annotators openie -preload -outputFormat serialized\n",
      "2023-05-11 13:09:27 INFO: Starting server with command: java -Xmx5G -cp /home/ddukic/oee/notebooks/.stanfordnlp_resources/* edu.stanford.nlp.pipeline.StanfordCoreNLPServer -port 4242 -timeout 150000000 -threads 5 -maxCharLength 100000 -quiet True -serverProperties corenlp_server-bf4d33c3a71b4d33.props -annotators openie -preload -outputFormat serialized\n",
      "2023-05-11 13:10:05 INFO: Starting server with command: java -Xmx5G -cp /home/ddukic/oee/notebooks/.stanfordnlp_resources/* edu.stanford.nlp.pipeline.StanfordCoreNLPServer -port 4242 -timeout 150000000 -threads 5 -maxCharLength 100000 -quiet True -serverProperties corenlp_server-bf4d33c3a71b4d33.props -annotators openie -preload -outputFormat serialized\n",
      "2023-05-11 13:21:19 INFO: Starting server with command: java -Xmx5G -cp /home/ddukic/oee/notebooks/.stanfordnlp_resources/* edu.stanford.nlp.pipeline.StanfordCoreNLPServer -port 4242 -timeout 150000000 -threads 5 -maxCharLength 100000 -quiet True -serverProperties corenlp_server-bf4d33c3a71b4d33.props -annotators openie -preload -outputFormat serialized\n",
      "2023-05-11 13:23:06 INFO: Starting server with command: java -Xmx5G -cp /home/ddukic/oee/notebooks/.stanfordnlp_resources/* edu.stanford.nlp.pipeline.StanfordCoreNLPServer -port 4242 -timeout 150000000 -threads 5 -maxCharLength 100000 -quiet True -serverProperties corenlp_server-bf4d33c3a71b4d33.props -annotators openie -preload -outputFormat serialized\n",
      "2023-05-11 13:26:25 INFO: Starting server with command: java -Xmx5G -cp /home/ddukic/oee/notebooks/.stanfordnlp_resources/* edu.stanford.nlp.pipeline.StanfordCoreNLPServer -port 4242 -timeout 150000000 -threads 5 -maxCharLength 100000 -quiet True -serverProperties corenlp_server-bf4d33c3a71b4d33.props -annotators openie -preload -outputFormat serialized\n",
      "2023-05-11 14:09:05 INFO: Starting server with command: java -Xmx5G -cp /home/ddukic/oee/notebooks/.stanfordnlp_resources/* edu.stanford.nlp.pipeline.StanfordCoreNLPServer -port 4242 -timeout 150000000 -threads 5 -maxCharLength 100000 -quiet True -serverProperties corenlp_server-bf4d33c3a71b4d33.props -annotators openie -preload -outputFormat serialized\n"
     ]
    }
   ],
   "source": [
    "# ace\n",
    "annotate_sentences_from_file(\n",
    "    \"../data/processed/ace_sentences_train.txt\", out_file_name=\"ace_train_triplets.json\"\n",
    ")\n",
    "annotate_sentences_from_file(\n",
    "    \"../data/processed/ace_sentences_dev.txt\", out_file_name=\"ace_dev_triplets.json\"\n",
    ")\n",
    "annotate_sentences_from_file(\n",
    "    \"../data/processed/ace_sentences_test.txt\", out_file_name=\"ace_test_triplets.json\"\n",
    ")\n",
    "# ednyt\n",
    "annotate_sentences_from_file(\n",
    "    \"../data/processed/ednyt_sentences_train.txt\", out_file_name=\"ednyt_train_triplets.json\"\n",
    ")\n",
    "annotate_sentences_from_file(\n",
    "    \"../data/processed/ednyt_sentences_valid.txt\", out_file_name=\"ednyt_valid_triplets.json\"\n",
    ")\n",
    "annotate_sentences_from_file(\n",
    "    \"../data/processed/ednyt_sentences_test.txt\", out_file_name=\"ednyt_test_triplets.json\"\n",
    ")\n",
    "# evextra\n",
    "annotate_sentences_from_file(\n",
    "    \"../data/processed/evextra_sentences_train.txt\", out_file_name=\"evextra_train_triplets.json\"\n",
    ")\n",
    "annotate_sentences_from_file(\n",
    "    \"../data/processed/evextra_sentences_valid.txt\", out_file_name=\"evextra_valid_triplets.json\"\n",
    ")\n",
    "annotate_sentences_from_file(\n",
    "    \"../data/processed/evextra_sentences_test.txt\", out_file_name=\"evextra_test_triplets.json\"\n",
    ")\n",
    "# maven\n",
    "annotate_sentences_from_file(\n",
    "    \"../data/processed/maven_sentences_train.txt\", out_file_name=\"maven_train_triplets.json\"\n",
    ")\n",
    "annotate_sentences_from_file(\n",
    "    \"../data/processed/maven_sentences_test.txt\", out_file_name=\"maven_test_triplets.json\"\n",
    ")"
   ]
  },
  {
   "cell_type": "code",
   "execution_count": 4,
   "metadata": {},
   "outputs": [
    {
     "name": "stdout",
     "output_type": "stream",
     "text": [
      "Implicit relations are: {'is', 'has', 'of', 'at_time'}\n"
     ]
    }
   ],
   "source": [
    "# stanford ads these implicit relations: 'is', 'has', 'of', 'at_time'\n",
    "print(\"Implicit relations are:\", implicit_realations)"
   ]
  }
 ],
 "metadata": {
  "kernelspec": {
   "display_name": "phd",
   "language": "python",
   "name": "python3"
  },
  "language_info": {
   "codemirror_mode": {
    "name": "ipython",
    "version": 3
   },
   "file_extension": ".py",
   "mimetype": "text/x-python",
   "name": "python",
   "nbconvert_exporter": "python",
   "pygments_lexer": "ipython3",
   "version": "3.9.7"
  },
  "orig_nbformat": 4
 },
 "nbformat": 4,
 "nbformat_minor": 2
}
