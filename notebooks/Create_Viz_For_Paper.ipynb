{
 "cells": [
  {
   "cell_type": "markdown",
   "metadata": {},
   "source": [
    "# Author: ddukic"
   ]
  },
  {
   "cell_type": "code",
   "execution_count": 1,
   "metadata": {},
   "outputs": [],
   "source": [
    "import spacy\n",
    "from spacy import displacy\n",
    "from spacy.tokens import Doc\n",
    "\n",
    "nlp = spacy.load(\"en_core_web_lg\")\n",
    "\n",
    "\n",
    "def viz_sentence_relation(tokens, tags):\n",
    "    assert len(tokens) == len(tags)\n",
    "\n",
    "    doc = Doc(nlp.vocab, words=tokens, ents=tags)\n",
    "\n",
    "    svg = displacy.render(\n",
    "        doc,\n",
    "        style=\"ent\",\n",
    "        options={\n",
    "            \"ents\": [\"Subject\", \"Relation\", \"Object\"],\n",
    "            \"colors\": {\n",
    "                \"Subject\": \"#ff6961\",\n",
    "                \"Relation\": \"#3CB371\",\n",
    "                \"Object\": \"#85C1E9\",\n",
    "            },\n",
    "        },\n",
    "        jupyter=False,\n",
    "        page=True,\n",
    "        minify=True,\n",
    "    )\n",
    "\n",
    "    return svg\n",
    "\n",
    "\n",
    "def viz_sentence_trigger(tokens, tags):\n",
    "    assert len(tokens) == len(tags)\n",
    "\n",
    "    doc = Doc(nlp.vocab, words=tokens, ents=tags)\n",
    "\n",
    "    svg = displacy.render(\n",
    "        doc,\n",
    "        style=\"ent\",\n",
    "        options={\n",
    "            \"ents\": [\"Trigger\"],\n",
    "            \"colors\": {\n",
    "                \"Trigger\": \"#3CB371\",\n",
    "            },\n",
    "        },\n",
    "        jupyter=False,\n",
    "        page=True,\n",
    "        minify=True,\n",
    "    )\n",
    "\n",
    "    return svg"
   ]
  },
  {
   "cell_type": "code",
   "execution_count": 2,
   "metadata": {},
   "outputs": [],
   "source": [
    "tokens = [\n",
    "    \"The\",\n",
    "    \"aircraft\",\n",
    "    \"broke\",\n",
    "    \"into\",\n",
    "    \"two\",\n",
    "    \"parts\",\n",
    "    \",\",\n",
    "    \"but\",\n",
    "    \"there\",\n",
    "    \"was\",\n",
    "    \"no\",\n",
    "    \"fire\",\n",
    "    \".\",\n",
    "]\n",
    "tags = [\"O\"] * len(tokens)\n",
    "tags_relation = tags\n",
    "tags_trigger = tags"
   ]
  },
  {
   "cell_type": "code",
   "execution_count": 3,
   "metadata": {},
   "outputs": [],
   "source": [
    "tags_relation[1] = \"B-Subject\"\n",
    "tags_relation[2] = \"B-Relation\"\n",
    "tags_relation[3] = \"I-Relation\"\n",
    "tags_relation[4] = \"B-Object\"\n",
    "tags_relation[5] = \"I-Object\"\n",
    "html_relation = viz_sentence_relation(tokens, tags_relation)"
   ]
  },
  {
   "cell_type": "code",
   "execution_count": 4,
   "metadata": {},
   "outputs": [],
   "source": [
    "tags_trigger[2] = \"B-Trigger\"\n",
    "html_trigger = viz_sentence_trigger(tokens, tags_trigger)"
   ]
  },
  {
   "cell_type": "code",
   "execution_count": 5,
   "metadata": {},
   "outputs": [
    {
     "data": {
      "text/plain": [
       "754"
      ]
     },
     "execution_count": 5,
     "metadata": {},
     "output_type": "execute_result"
    }
   ],
   "source": [
    "from pathlib import Path\n",
    "\n",
    "Path(\"relation_labeling.html\").open(\"w\", encoding=\"utf-8\").write(html_relation)\n",
    "Path(\"trigger_labeling.html\").open(\"w\", encoding=\"utf-8\").write(html_trigger)"
   ]
  }
 ],
 "metadata": {
  "kernelspec": {
   "display_name": "phd",
   "language": "python",
   "name": "python3"
  },
  "language_info": {
   "codemirror_mode": {
    "name": "ipython",
    "version": 3
   },
   "file_extension": ".py",
   "mimetype": "text/x-python",
   "name": "python",
   "nbconvert_exporter": "python",
   "pygments_lexer": "ipython3",
   "version": "3.9.7"
  },
  "orig_nbformat": 4
 },
 "nbformat": 4,
 "nbformat_minor": 2
}
